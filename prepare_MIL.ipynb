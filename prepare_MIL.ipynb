{
 "cells": [
  {
   "cell_type": "code",
   "execution_count": 2,
   "id": "0599ee40-367d-4643-8b36-01995563fa81",
   "metadata": {},
   "outputs": [],
   "source": [
    "import os, sys, random\n",
    "\n",
    "import pandas as pd\n",
    "import numpy as np"
   ]
  },
  {
   "cell_type": "code",
   "execution_count": 6,
   "id": "e41d3b77-ec39-4609-b9a0-74eca16c14f1",
   "metadata": {},
   "outputs": [
    {
     "name": "stdout",
     "output_type": "stream",
     "text": [
      ".p104046.psv.icloud\n"
     ]
    },
    {
     "ename": "SystemExit",
     "evalue": "1",
     "output_type": "error",
     "traceback": [
      "An exception has occurred, use %tb to see the full traceback.\n",
      "\u001b[0;31mSystemExit\u001b[0m\u001b[0;31m:\u001b[0m 1\n"
     ]
    },
    {
     "name": "stderr",
     "output_type": "stream",
     "text": [
      "/Users/phillip/opt/anaconda3/envs/dev/lib/python3.9/site-packages/IPython/core/interactiveshell.py:3445: UserWarning: To exit: use 'exit', 'quit', or Ctrl-D.\n",
      "  warn(\"To exit: use 'exit', 'quit', or Ctrl-D.\", stacklevel=1)\n"
     ]
    }
   ],
   "source": [
    "rootDir = \"/Users/phillip/Documents/PhD/PhD3/Data/PhysioNet/Dataset1/training\"\n",
    "files = os.listdir(rootDir)\n",
    "fileList = []\n",
    "for file in files:\n",
    "    print(file)\n",
    "    sys.exit(1)\n",
    "    if not os.path.isdir(file):\n",
    "        fileList.append(pd.read_csv(\"{}/{}\".format(rootDir, file), sep=\"|\", header=0))"
   ]
  },
  {
   "cell_type": "code",
   "execution_count": null,
   "id": "48c8fadb-fe28-44c4-83c9-ae4edd35ebe1",
   "metadata": {},
   "outputs": [],
   "source": []
  }
 ],
 "metadata": {
  "kernelspec": {
   "display_name": "Python 3",
   "language": "python",
   "name": "python3"
  },
  "language_info": {
   "codemirror_mode": {
    "name": "ipython",
    "version": 3
   },
   "file_extension": ".py",
   "mimetype": "text/x-python",
   "name": "python",
   "nbconvert_exporter": "python",
   "pygments_lexer": "ipython3",
   "version": "3.9.4"
  }
 },
 "nbformat": 4,
 "nbformat_minor": 5
}
