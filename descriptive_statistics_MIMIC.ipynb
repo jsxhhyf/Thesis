{
 "cells": [
  {
   "cell_type": "code",
   "execution_count": 2,
   "id": "gothic-shepherd",
   "metadata": {
    "tags": []
   },
   "outputs": [
    {
     "ename": "ModuleNotFoundError",
     "evalue": "No module named 'xgboost'",
     "output_type": "error",
     "traceback": [
      "\u001b[0;31m---------------------------------------------------------------------------\u001b[0m",
      "\u001b[0;31mModuleNotFoundError\u001b[0m                       Traceback (most recent call last)",
      "\u001b[0;32m<ipython-input-2-48a40e9fe6fb>\u001b[0m in \u001b[0;36m<module>\u001b[0;34m\u001b[0m\n\u001b[1;32m     10\u001b[0m \u001b[0;32mimport\u001b[0m \u001b[0mdcor\u001b[0m\u001b[0;34m\u001b[0m\u001b[0;34m\u001b[0m\u001b[0m\n\u001b[1;32m     11\u001b[0m \u001b[0;34m\u001b[0m\u001b[0m\n\u001b[0;32m---> 12\u001b[0;31m \u001b[0;32mimport\u001b[0m \u001b[0mxgboost\u001b[0m \u001b[0;32mas\u001b[0m \u001b[0mxgb\u001b[0m\u001b[0;34m\u001b[0m\u001b[0;34m\u001b[0m\u001b[0m\n\u001b[0m\u001b[1;32m     13\u001b[0m \u001b[0;34m\u001b[0m\u001b[0m\n\u001b[1;32m     14\u001b[0m \u001b[0;31m# scikit-learn\u001b[0m\u001b[0;34m\u001b[0m\u001b[0;34m\u001b[0m\u001b[0;34m\u001b[0m\u001b[0m\n",
      "\u001b[0;31mModuleNotFoundError\u001b[0m: No module named 'xgboost'"
     ]
    }
   ],
   "source": [
    "import os, sys, json, random\n",
    "import pandas as pd\n",
    "import numpy as np\n",
    "\n",
    "from scipy.stats import pearsonr\n",
    "from sklearn.preprocessing import MinMaxScaler\n",
    "from sklearn.feature_selection import chi2\n",
    "import matplotlib.pyplot as plt\n",
    "\n",
    "import dcor\n",
    "\n",
    "import xgboost as xgb\n",
    "\n",
    "# scikit-learn\n",
    "from sklearn import metrics\n",
    "from sklearn.model_selection import train_test_split, cross_validate, GridSearchCV"
   ]
  },
  {
   "cell_type": "code",
   "execution_count": null,
   "id": "religious-isaac",
   "metadata": {
    "tags": []
   },
   "outputs": [],
   "source": [
    "BASEDIRECTORY = \"/Users/phillip/Sync/MIMIC III Uncompressed Datasets\""
   ]
  },
  {
   "cell_type": "code",
   "execution_count": null,
   "id": "necessary-liechtenstein",
   "metadata": {
    "tags": []
   },
   "outputs": [],
   "source": [
    "#  Possible feature names in D_ITMES.csv\n",
    "features_list = [\n",
    "    \"Heart Rate\",\n",
    "    \"O2 saturation pulseoxymetry\",\n",
    "    \"Temperature Celsius\",\n",
    "    \"Temperature C\",\n",
    "    \"Temperature C (calc)\",\n",
    "    \"Arterial Blood Pressure systolic\",\n",
    "    \"ABP [Systolic]\",\n",
    "    \"Arterial BP [Systolic]\",\n",
    "    \"Arterial Blood Pressure diastolic\",\n",
    "    \"ABP [Diastolic]\",\n",
    "    \"Arterial BP [Diastolic]\",\n",
    "    \"Arterial Blood Pressure mean\",\n",
    "    \"Arterial BP Mean\",\n",
    "    \"Respiratory Rate (Total)\",\n",
    "    \"Respiratory Rate\",\n",
    "    \"EtCO2\",\n",
    "    \"Base Excess\",\n",
    "    \"HCO3\",\n",
    "    \"FIO2\",\n",
    "    \"FiO2\" \"Inspired O2 Fraction\",\n",
    "    \"ph level\",\n",
    "    \"PH\",\n",
    "    \"Ph\",\n",
    "    \"Arterial PaCO2\",\n",
    "    \"Arterial O2 Saturation\",\n",
    "    \"SaO2\",\n",
    "    \"Alkaline Phosphatase\",\n",
    "    \"Alkaline Phosphate\",\n",
    "    \"Calcium\",\n",
    "    \"Chloride (whole blood)\",\n",
    "    \"Chloride\",\n",
    "    \"Creatinine\",\n",
    "    \"Direct Bilirubin\",\n",
    "    \"Glucose (serum)\",\n",
    "    \"Lactic Acid\",\n",
    "    \"Magnesium\",\n",
    "    \"Potassium\",\n",
    "    \"Troponin\",\n",
    "    \"Hematocrit\",\n",
    "    \"Hemoglobin\",\n",
    "    \"PTT\",\n",
    "    \"Ptt\",\n",
    "    \"WBC\",\n",
    "    \"FIBRINOGEN\",\n",
    "    \"Fibrinogen\",\n",
    "    \"Platelets\",\n",
    "    \"Present Weight  (kg)\",\n",
    "    \"Weight Kg\",\n",
    "]"
   ]
  },
  {
   "cell_type": "code",
   "execution_count": 3,
   "id": "julian-latex",
   "metadata": {
    "tags": []
   },
   "outputs": [
    {
     "ename": "NameError",
     "evalue": "name 'BASEDIRECTORY' is not defined",
     "output_type": "error",
     "traceback": [
      "\u001b[0;31m---------------------------------------------------------------------------\u001b[0m",
      "\u001b[0;31mNameError\u001b[0m                                 Traceback (most recent call last)",
      "\u001b[0;32m<ipython-input-3-9e303731eab9>\u001b[0m in \u001b[0;36m<module>\u001b[0;34m\u001b[0m\n\u001b[0;32m----> 1\u001b[0;31m \u001b[0md_items_df\u001b[0m \u001b[0;34m=\u001b[0m \u001b[0mpd\u001b[0m\u001b[0;34m.\u001b[0m\u001b[0mread_csv\u001b[0m\u001b[0;34m(\u001b[0m\u001b[0;34m\"{}/{}\"\u001b[0m\u001b[0;34m.\u001b[0m\u001b[0mformat\u001b[0m\u001b[0;34m(\u001b[0m\u001b[0mBASEDIRECTORY\u001b[0m\u001b[0;34m,\u001b[0m \u001b[0;34m\"D_ITEMS.csv\"\u001b[0m\u001b[0;34m)\u001b[0m\u001b[0;34m)\u001b[0m\u001b[0;34m\u001b[0m\u001b[0;34m\u001b[0m\u001b[0m\n\u001b[0m\u001b[1;32m      2\u001b[0m \u001b[0mdiagnose_df\u001b[0m \u001b[0;34m=\u001b[0m \u001b[0mpd\u001b[0m\u001b[0;34m.\u001b[0m\u001b[0mread_csv\u001b[0m\u001b[0;34m(\u001b[0m\u001b[0;34m\"{}/{}\"\u001b[0m\u001b[0;34m.\u001b[0m\u001b[0mformat\u001b[0m\u001b[0;34m(\u001b[0m\u001b[0mBASEDIRECTORY\u001b[0m\u001b[0;34m,\u001b[0m \u001b[0;34m\"DIAGNOSES_ICD.csv\"\u001b[0m\u001b[0;34m)\u001b[0m\u001b[0;34m)\u001b[0m\u001b[0;34m\u001b[0m\u001b[0;34m\u001b[0m\u001b[0m\n\u001b[1;32m      3\u001b[0m \u001b[0md_icd_diagnose_df\u001b[0m \u001b[0;34m=\u001b[0m \u001b[0mpd\u001b[0m\u001b[0;34m.\u001b[0m\u001b[0mread_csv\u001b[0m\u001b[0;34m(\u001b[0m\u001b[0;34m\"{}/{}\"\u001b[0m\u001b[0;34m.\u001b[0m\u001b[0mformat\u001b[0m\u001b[0;34m(\u001b[0m\u001b[0mBASEDIRECTORY\u001b[0m\u001b[0;34m,\u001b[0m \u001b[0;34m\"D_ICD_DIAGNOSES.csv\"\u001b[0m\u001b[0;34m)\u001b[0m\u001b[0;34m)\u001b[0m\u001b[0;34m\u001b[0m\u001b[0;34m\u001b[0m\u001b[0m\n\u001b[1;32m      4\u001b[0m \u001b[0madmission_df\u001b[0m \u001b[0;34m=\u001b[0m \u001b[0mpd\u001b[0m\u001b[0;34m.\u001b[0m\u001b[0mread_csv\u001b[0m\u001b[0;34m(\u001b[0m\u001b[0;34m\"{}/{}\"\u001b[0m\u001b[0;34m.\u001b[0m\u001b[0mformat\u001b[0m\u001b[0;34m(\u001b[0m\u001b[0mBASEDIRECTORY\u001b[0m\u001b[0;34m,\u001b[0m \u001b[0;34m\"ADMISSIONS.csv\"\u001b[0m\u001b[0;34m)\u001b[0m\u001b[0;34m)\u001b[0m\u001b[0;34m\u001b[0m\u001b[0;34m\u001b[0m\u001b[0m\n\u001b[1;32m      5\u001b[0m \u001b[0mpatient_df\u001b[0m \u001b[0;34m=\u001b[0m \u001b[0mpd\u001b[0m\u001b[0;34m.\u001b[0m\u001b[0mread_csv\u001b[0m\u001b[0;34m(\u001b[0m\u001b[0;34m\"{}/{}\"\u001b[0m\u001b[0;34m.\u001b[0m\u001b[0mformat\u001b[0m\u001b[0;34m(\u001b[0m\u001b[0mBASEDIRECTORY\u001b[0m\u001b[0;34m,\u001b[0m \u001b[0;34m\"PATIENTS.csv\"\u001b[0m\u001b[0;34m)\u001b[0m\u001b[0;34m)\u001b[0m\u001b[0;34m\u001b[0m\u001b[0;34m\u001b[0m\u001b[0m\n",
      "\u001b[0;31mNameError\u001b[0m: name 'BASEDIRECTORY' is not defined"
     ]
    }
   ],
   "source": [
    "d_items_df = pd.read_csv(\"{}/{}\".format(BASEDIRECTORY, \"D_ITEMS.csv\"))\n",
    "diagnose_df = pd.read_csv(\"{}/{}\".format(BASEDIRECTORY, \"DIAGNOSES_ICD.csv\"))\n",
    "d_icd_diagnose_df = pd.read_csv(\"{}/{}\".format(BASEDIRECTORY, \"D_ICD_DIAGNOSES.csv\"))\n",
    "admission_df = pd.read_csv(\"{}/{}\".format(BASEDIRECTORY, \"ADMISSIONS.csv\"))\n",
    "patient_df = pd.read_csv(\"{}/{}\".format(BASEDIRECTORY, \"PATIENTS.csv\"))"
   ]
  },
  {
   "cell_type": "code",
   "execution_count": 5,
   "id": "pointed-amino",
   "metadata": {
    "execution": {
     "iopub.execute_input": "2021-03-28T14:31:11.960060Z",
     "iopub.status.busy": "2021-03-28T14:31:11.959828Z",
     "iopub.status.idle": "2021-03-28T14:31:11.968193Z",
     "shell.execute_reply": "2021-03-28T14:31:11.967420Z",
     "shell.execute_reply.started": "2021-03-28T14:31:11.960033Z"
    },
    "tags": []
   },
   "outputs": [],
   "source": [
    "selected_itemids_df = d_items_df[\n",
    "    d_items_df.LABEL.isin(features_list) & (d_items_df.LINKSTO == \"chartevents\")\n",
    "][[\"ITEMID\", \"LABEL\"]]"
   ]
  },
  {
   "cell_type": "code",
   "execution_count": 6,
   "id": "white-aggregate",
   "metadata": {
    "execution": {
     "iopub.execute_input": "2021-03-28T14:31:12.742498Z",
     "iopub.status.busy": "2021-03-28T14:31:12.742256Z",
     "iopub.status.idle": "2021-03-28T14:31:12.767173Z",
     "shell.execute_reply": "2021-03-28T14:31:12.766383Z",
     "shell.execute_reply.started": "2021-03-28T14:31:12.742472Z"
    },
    "tags": []
   },
   "outputs": [
    {
     "data": {
      "text/html": [
       "<div>\n",
       "<style scoped>\n",
       "    .dataframe tbody tr th:only-of-type {\n",
       "        vertical-align: middle;\n",
       "    }\n",
       "\n",
       "    .dataframe tbody tr th {\n",
       "        vertical-align: top;\n",
       "    }\n",
       "\n",
       "    .dataframe thead th {\n",
       "        text-align: right;\n",
       "    }\n",
       "</style>\n",
       "<table border=\"1\" class=\"dataframe\">\n",
       "  <thead>\n",
       "    <tr style=\"text-align: right;\">\n",
       "      <th></th>\n",
       "      <th>ROW_ID</th>\n",
       "      <th>ICD9_CODE</th>\n",
       "      <th>SHORT_TITLE</th>\n",
       "      <th>LONG_TITLE</th>\n",
       "    </tr>\n",
       "  </thead>\n",
       "  <tbody>\n",
       "    <tr>\n",
       "      <th>69</th>\n",
       "      <td>242</td>\n",
       "      <td>0031</td>\n",
       "      <td>Salmonella septicemia</td>\n",
       "      <td>Salmonella septicemia</td>\n",
       "    </tr>\n",
       "    <tr>\n",
       "      <th>542</th>\n",
       "      <td>593</td>\n",
       "      <td>0545</td>\n",
       "      <td>Herpetic septicemia</td>\n",
       "      <td>Herpetic septicemia</td>\n",
       "    </tr>\n",
       "    <tr>\n",
       "      <th>595</th>\n",
       "      <td>646</td>\n",
       "      <td>0380</td>\n",
       "      <td>Streptococcal septicemia</td>\n",
       "      <td>Streptococcal septicemia</td>\n",
       "    </tr>\n",
       "    <tr>\n",
       "      <th>596</th>\n",
       "      <td>647</td>\n",
       "      <td>03810</td>\n",
       "      <td>Staphylcocc septicem NOS</td>\n",
       "      <td>Staphylococcal septicemia, unspecified</td>\n",
       "    </tr>\n",
       "    <tr>\n",
       "      <th>598</th>\n",
       "      <td>649</td>\n",
       "      <td>03812</td>\n",
       "      <td>MRSA septicemia</td>\n",
       "      <td>Methicillin resistant Staphylococcus aureus se...</td>\n",
       "    </tr>\n",
       "    <tr>\n",
       "      <th>599</th>\n",
       "      <td>650</td>\n",
       "      <td>03819</td>\n",
       "      <td>Staphylcocc septicem NEC</td>\n",
       "      <td>Other staphylococcal septicemia</td>\n",
       "    </tr>\n",
       "    <tr>\n",
       "      <th>600</th>\n",
       "      <td>651</td>\n",
       "      <td>0382</td>\n",
       "      <td>Pneumococcal septicemia</td>\n",
       "      <td>Pneumococcal septicemia [Streptococcus pneumon...</td>\n",
       "    </tr>\n",
       "    <tr>\n",
       "      <th>601</th>\n",
       "      <td>652</td>\n",
       "      <td>0383</td>\n",
       "      <td>Anaerobic septicemia</td>\n",
       "      <td>Septicemia due to anaerobes</td>\n",
       "    </tr>\n",
       "    <tr>\n",
       "      <th>602</th>\n",
       "      <td>653</td>\n",
       "      <td>03840</td>\n",
       "      <td>Gram-neg septicemia NOS</td>\n",
       "      <td>Septicemia due to gram-negative organism, unsp...</td>\n",
       "    </tr>\n",
       "    <tr>\n",
       "      <th>603</th>\n",
       "      <td>654</td>\n",
       "      <td>03841</td>\n",
       "      <td>H. influenae septicemia</td>\n",
       "      <td>Septicemia due to hemophilus influenzae [H. in...</td>\n",
       "    </tr>\n",
       "    <tr>\n",
       "      <th>604</th>\n",
       "      <td>655</td>\n",
       "      <td>03842</td>\n",
       "      <td>E coli septicemia</td>\n",
       "      <td>Septicemia due to escherichia coli [E. coli]</td>\n",
       "    </tr>\n",
       "    <tr>\n",
       "      <th>605</th>\n",
       "      <td>656</td>\n",
       "      <td>03843</td>\n",
       "      <td>Pseudomonas septicemia</td>\n",
       "      <td>Septicemia due to pseudomonas</td>\n",
       "    </tr>\n",
       "    <tr>\n",
       "      <th>606</th>\n",
       "      <td>657</td>\n",
       "      <td>03844</td>\n",
       "      <td>Serratia septicemia</td>\n",
       "      <td>Septicemia due to serratia</td>\n",
       "    </tr>\n",
       "    <tr>\n",
       "      <th>607</th>\n",
       "      <td>658</td>\n",
       "      <td>03849</td>\n",
       "      <td>Gram-neg septicemia NEC</td>\n",
       "      <td>Other septicemia due to gram-negative organisms</td>\n",
       "    </tr>\n",
       "    <tr>\n",
       "      <th>653</th>\n",
       "      <td>704</td>\n",
       "      <td>0223</td>\n",
       "      <td>Anthrax septicemia</td>\n",
       "      <td>Anthrax septicemia</td>\n",
       "    </tr>\n",
       "    <tr>\n",
       "      <th>9049</th>\n",
       "      <td>9050</td>\n",
       "      <td>77181</td>\n",
       "      <td>NB septicemia [sepsis]</td>\n",
       "      <td>Septicemia [sepsis] of newborn</td>\n",
       "    </tr>\n",
       "    <tr>\n",
       "      <th>10305</th>\n",
       "      <td>11404</td>\n",
       "      <td>99592</td>\n",
       "      <td>Severe sepsis</td>\n",
       "      <td>Severe sepsis</td>\n",
       "    </tr>\n",
       "    <tr>\n",
       "      <th>11768</th>\n",
       "      <td>12384</td>\n",
       "      <td>99802</td>\n",
       "      <td>Postop shock, septic</td>\n",
       "      <td>Postoperative shock, septic</td>\n",
       "    </tr>\n",
       "    <tr>\n",
       "      <th>12395</th>\n",
       "      <td>10005</td>\n",
       "      <td>73341</td>\n",
       "      <td>Aseptic necrosis humerus</td>\n",
       "      <td>Aseptic necrosis of head of humerus</td>\n",
       "    </tr>\n",
       "    <tr>\n",
       "      <th>12396</th>\n",
       "      <td>10006</td>\n",
       "      <td>73342</td>\n",
       "      <td>Aseptic necrosis femur</td>\n",
       "      <td>Aseptic necrosis of head and neck of femur</td>\n",
       "    </tr>\n",
       "    <tr>\n",
       "      <th>12398</th>\n",
       "      <td>10008</td>\n",
       "      <td>73344</td>\n",
       "      <td>Aseptic necrosis talus</td>\n",
       "      <td>Aseptic necrosis of talus</td>\n",
       "    </tr>\n",
       "    <tr>\n",
       "      <th>12399</th>\n",
       "      <td>10009</td>\n",
       "      <td>73345</td>\n",
       "      <td>Aseptic necrosis of jaw</td>\n",
       "      <td>Aseptic necrosis of bone, jaw</td>\n",
       "    </tr>\n",
       "    <tr>\n",
       "      <th>13293</th>\n",
       "      <td>13564</td>\n",
       "      <td>67020</td>\n",
       "      <td>Puerperal sepsis-unsp</td>\n",
       "      <td>Puerperal sepsis, unspecified as to episode of...</td>\n",
       "    </tr>\n",
       "    <tr>\n",
       "      <th>13294</th>\n",
       "      <td>13565</td>\n",
       "      <td>67022</td>\n",
       "      <td>Puerprl sepsis-del w p/p</td>\n",
       "      <td>Puerperal sepsis, delivered, with mention of p...</td>\n",
       "    </tr>\n",
       "    <tr>\n",
       "      <th>13295</th>\n",
       "      <td>13566</td>\n",
       "      <td>67024</td>\n",
       "      <td>Puerperl sepsis-postpart</td>\n",
       "      <td>Puerperal sepsis, postpartum condition or comp...</td>\n",
       "    </tr>\n",
       "  </tbody>\n",
       "</table>\n",
       "</div>"
      ],
      "text/plain": [
       "       ROW_ID ICD9_CODE               SHORT_TITLE  \\\n",
       "69        242      0031     Salmonella septicemia   \n",
       "542       593      0545       Herpetic septicemia   \n",
       "595       646      0380  Streptococcal septicemia   \n",
       "596       647     03810  Staphylcocc septicem NOS   \n",
       "598       649     03812           MRSA septicemia   \n",
       "599       650     03819  Staphylcocc septicem NEC   \n",
       "600       651      0382   Pneumococcal septicemia   \n",
       "601       652      0383      Anaerobic septicemia   \n",
       "602       653     03840   Gram-neg septicemia NOS   \n",
       "603       654     03841   H. influenae septicemia   \n",
       "604       655     03842         E coli septicemia   \n",
       "605       656     03843    Pseudomonas septicemia   \n",
       "606       657     03844       Serratia septicemia   \n",
       "607       658     03849   Gram-neg septicemia NEC   \n",
       "653       704      0223        Anthrax septicemia   \n",
       "9049     9050     77181    NB septicemia [sepsis]   \n",
       "10305   11404     99592             Severe sepsis   \n",
       "11768   12384     99802      Postop shock, septic   \n",
       "12395   10005     73341  Aseptic necrosis humerus   \n",
       "12396   10006     73342    Aseptic necrosis femur   \n",
       "12398   10008     73344    Aseptic necrosis talus   \n",
       "12399   10009     73345   Aseptic necrosis of jaw   \n",
       "13293   13564     67020     Puerperal sepsis-unsp   \n",
       "13294   13565     67022  Puerprl sepsis-del w p/p   \n",
       "13295   13566     67024  Puerperl sepsis-postpart   \n",
       "\n",
       "                                              LONG_TITLE  \n",
       "69                                 Salmonella septicemia  \n",
       "542                                  Herpetic septicemia  \n",
       "595                             Streptococcal septicemia  \n",
       "596               Staphylococcal septicemia, unspecified  \n",
       "598    Methicillin resistant Staphylococcus aureus se...  \n",
       "599                      Other staphylococcal septicemia  \n",
       "600    Pneumococcal septicemia [Streptococcus pneumon...  \n",
       "601                          Septicemia due to anaerobes  \n",
       "602    Septicemia due to gram-negative organism, unsp...  \n",
       "603    Septicemia due to hemophilus influenzae [H. in...  \n",
       "604         Septicemia due to escherichia coli [E. coli]  \n",
       "605                        Septicemia due to pseudomonas  \n",
       "606                           Septicemia due to serratia  \n",
       "607      Other septicemia due to gram-negative organisms  \n",
       "653                                   Anthrax septicemia  \n",
       "9049                      Septicemia [sepsis] of newborn  \n",
       "10305                                      Severe sepsis  \n",
       "11768                        Postoperative shock, septic  \n",
       "12395                Aseptic necrosis of head of humerus  \n",
       "12396         Aseptic necrosis of head and neck of femur  \n",
       "12398                          Aseptic necrosis of talus  \n",
       "12399                      Aseptic necrosis of bone, jaw  \n",
       "13293  Puerperal sepsis, unspecified as to episode of...  \n",
       "13294  Puerperal sepsis, delivered, with mention of p...  \n",
       "13295  Puerperal sepsis, postpartum condition or comp...  "
      ]
     },
     "execution_count": 6,
     "metadata": {},
     "output_type": "execute_result"
    }
   ],
   "source": [
    "# 找出sepsis相关的ICD码\n",
    "sepsis_icd = d_icd_diagnose_df[\n",
    "    d_icd_diagnose_df.SHORT_TITLE.str.contains(\"sepsis|septic\")\n",
    "]\n",
    "sepsis_icd"
   ]
  },
  {
   "cell_type": "code",
   "execution_count": 7,
   "id": "adjustable-adjustment",
   "metadata": {
    "execution": {
     "iopub.execute_input": "2021-03-28T14:31:17.362946Z",
     "iopub.status.busy": "2021-03-28T14:31:17.362705Z",
     "iopub.status.idle": "2021-03-28T14:31:17.366501Z",
     "shell.execute_reply": "2021-03-28T14:31:17.365772Z",
     "shell.execute_reply.started": "2021-03-28T14:31:17.362917Z"
    },
    "tags": []
   },
   "outputs": [],
   "source": [
    "selected_ICD9 = [\"99592\", \"77181\"]"
   ]
  },
  {
   "cell_type": "code",
   "execution_count": null,
   "id": "generic-optics",
   "metadata": {
    "tags": []
   },
   "outputs": [],
   "source": []
  },
  {
   "cell_type": "code",
   "execution_count": 267,
   "id": "allied-conducting",
   "metadata": {
    "execution": {
     "iopub.execute_input": "2021-03-24T07:47:45.623785Z",
     "iopub.status.busy": "2021-03-24T07:47:45.623544Z",
     "iopub.status.idle": "2021-03-24T07:55:31.013451Z",
     "shell.execute_reply": "2021-03-24T07:55:31.011695Z",
     "shell.execute_reply.started": "2021-03-24T07:47:45.623760Z"
    },
    "tags": []
   },
   "outputs": [],
   "source": [
    "# select useful variables from chartevents.csv\n",
    "# not necessary to call every time\n",
    "# can load from file\n",
    "\n",
    "# selected_itemids_series = selected_itemids_df.ITEMID\n",
    "# selected_chartevents_df = pd.DataFrame()\n",
    "# with pd.read_csv(\n",
    "#     \"{}/{}\".format(BASEDIRECTORY, \"CHARTEVENTS.csv\"),\n",
    "#     usecols=[\n",
    "#         \"SUBJECT_ID\",\n",
    "#         \"HADM_ID\",\n",
    "#         \"ICUSTAY_ID\",\n",
    "#         \"ITEMID\",\n",
    "#         \"CHARTTIME\",\n",
    "#         \"STORETIME\",\n",
    "#         \"VALUENUM\",\n",
    "#     ],\n",
    "#     chunksize=10000000,\n",
    "#     low_memory=False,\n",
    "# ) as chartevents_reader:\n",
    "#     for chunk in chartevents_reader:\n",
    "#         selected_chartevents_df = pd.concat(\n",
    "#             [\n",
    "#                 selected_chartevents_df,\n",
    "#                 chunk[chunk.ITEMID.isin(selected_itemids_series)],\n",
    "#             ],\n",
    "#             ignore_index=True,\n",
    "#         )\n",
    "\n",
    "# selected_chartevents_df.drop(\n",
    "#     columns=[\n",
    "#         \"ROW_ID\",\n",
    "#         \"HADM_ID\",\n",
    "#         \"CGID\",\n",
    "#         \"VALUE\",\n",
    "#         \"VALUEUOM\",\n",
    "#         \"WARNING\",\n",
    "#         \"ERROR\",\n",
    "#         \"RESULTSTATUS\",\n",
    "#         \"STOPPED\",\n",
    "#     ],\n",
    "#     inplace=True,\n",
    "# )"
   ]
  },
  {
   "cell_type": "code",
   "execution_count": 268,
   "id": "historic-steam",
   "metadata": {
    "execution": {
     "iopub.execute_input": "2021-03-24T08:03:26.748148Z",
     "iopub.status.busy": "2021-03-24T08:03:26.747900Z",
     "iopub.status.idle": "2021-03-24T08:05:40.900336Z",
     "shell.execute_reply": "2021-03-24T08:05:40.899806Z",
     "shell.execute_reply.started": "2021-03-24T08:03:26.748119Z"
    },
    "tags": []
   },
   "outputs": [],
   "source": [
    "# selected_chartevents_df.to_csv(\"selected_chartevents.csv\")"
   ]
  },
  {
   "cell_type": "code",
   "execution_count": 8,
   "id": "indian-retirement",
   "metadata": {
    "execution": {
     "iopub.execute_input": "2021-03-28T14:31:28.104411Z",
     "iopub.status.busy": "2021-03-28T14:31:28.104177Z",
     "iopub.status.idle": "2021-03-28T14:31:59.897939Z",
     "shell.execute_reply": "2021-03-28T14:31:59.897127Z",
     "shell.execute_reply.started": "2021-03-28T14:31:28.104384Z"
    },
    "tags": []
   },
   "outputs": [],
   "source": [
    "selected_chartevents_df = pd.read_csv(\"selected_chartevents.csv\")"
   ]
  },
  {
   "cell_type": "code",
   "execution_count": 9,
   "id": "monthly-cover",
   "metadata": {
    "execution": {
     "iopub.execute_input": "2021-03-28T14:31:59.900070Z",
     "iopub.status.busy": "2021-03-28T14:31:59.899781Z",
     "iopub.status.idle": "2021-03-28T14:32:00.619138Z",
     "shell.execute_reply": "2021-03-28T14:32:00.618279Z",
     "shell.execute_reply.started": "2021-03-28T14:31:59.900038Z"
    },
    "tags": []
   },
   "outputs": [],
   "source": [
    "selected_admissionID_series = selected_chartevents_df.HADM_ID.drop_duplicates()\n",
    "selected_subjectID_series = selected_chartevents_df.SUBJECT_ID.drop_duplicates()\n",
    "# print(len(selected_admissionID_series), len(selected_subjectID_series))"
   ]
  },
  {
   "cell_type": "code",
   "execution_count": 270,
   "id": "gross-function",
   "metadata": {
    "execution": {
     "iopub.execute_input": "2021-03-24T08:12:55.481666Z",
     "iopub.status.busy": "2021-03-24T08:12:55.481452Z",
     "iopub.status.idle": "2021-03-24T08:12:55.492909Z",
     "shell.execute_reply": "2021-03-24T08:12:55.491842Z",
     "shell.execute_reply.started": "2021-03-24T08:12:55.481642Z"
    },
    "tags": []
   },
   "outputs": [
    {
     "data": {
      "text/html": [
       "<div>\n",
       "<style scoped>\n",
       "    .dataframe tbody tr th:only-of-type {\n",
       "        vertical-align: middle;\n",
       "    }\n",
       "\n",
       "    .dataframe tbody tr th {\n",
       "        vertical-align: top;\n",
       "    }\n",
       "\n",
       "    .dataframe thead th {\n",
       "        text-align: right;\n",
       "    }\n",
       "</style>\n",
       "<table border=\"1\" class=\"dataframe\">\n",
       "  <thead>\n",
       "    <tr style=\"text-align: right;\">\n",
       "      <th></th>\n",
       "      <th>SUBJECT_ID</th>\n",
       "      <th>HADM_ID</th>\n",
       "      <th>ICUSTAY_ID</th>\n",
       "      <th>ITEMID</th>\n",
       "      <th>CHARTTIME</th>\n",
       "      <th>STORETIME</th>\n",
       "      <th>VALUENUM</th>\n",
       "    </tr>\n",
       "  </thead>\n",
       "  <tbody>\n",
       "    <tr>\n",
       "      <th>0</th>\n",
       "      <td>36</td>\n",
       "      <td>165660</td>\n",
       "      <td>241249.0</td>\n",
       "      <td>225668</td>\n",
       "      <td>2134-05-12 12:35:00</td>\n",
       "      <td>2134-05-12 12:38:00</td>\n",
       "      <td>1.0</td>\n",
       "    </tr>\n",
       "    <tr>\n",
       "      <th>1</th>\n",
       "      <td>36</td>\n",
       "      <td>165660</td>\n",
       "      <td>241249.0</td>\n",
       "      <td>220045</td>\n",
       "      <td>2134-05-12 13:00:00</td>\n",
       "      <td>2134-05-12 13:55:00</td>\n",
       "      <td>86.0</td>\n",
       "    </tr>\n",
       "    <tr>\n",
       "      <th>2</th>\n",
       "      <td>36</td>\n",
       "      <td>165660</td>\n",
       "      <td>241249.0</td>\n",
       "      <td>220210</td>\n",
       "      <td>2134-05-12 13:00:00</td>\n",
       "      <td>2134-05-12 13:55:00</td>\n",
       "      <td>21.0</td>\n",
       "    </tr>\n",
       "    <tr>\n",
       "      <th>3</th>\n",
       "      <td>36</td>\n",
       "      <td>165660</td>\n",
       "      <td>241249.0</td>\n",
       "      <td>220277</td>\n",
       "      <td>2134-05-12 13:00:00</td>\n",
       "      <td>2134-05-12 13:55:00</td>\n",
       "      <td>93.0</td>\n",
       "    </tr>\n",
       "    <tr>\n",
       "      <th>4</th>\n",
       "      <td>36</td>\n",
       "      <td>165660</td>\n",
       "      <td>241249.0</td>\n",
       "      <td>220045</td>\n",
       "      <td>2134-05-12 14:00:00</td>\n",
       "      <td>2134-05-12 14:39:00</td>\n",
       "      <td>85.0</td>\n",
       "    </tr>\n",
       "  </tbody>\n",
       "</table>\n",
       "</div>"
      ],
      "text/plain": [
       "   SUBJECT_ID  HADM_ID  ICUSTAY_ID  ITEMID            CHARTTIME  \\\n",
       "0          36   165660    241249.0  225668  2134-05-12 12:35:00   \n",
       "1          36   165660    241249.0  220045  2134-05-12 13:00:00   \n",
       "2          36   165660    241249.0  220210  2134-05-12 13:00:00   \n",
       "3          36   165660    241249.0  220277  2134-05-12 13:00:00   \n",
       "4          36   165660    241249.0  220045  2134-05-12 14:00:00   \n",
       "\n",
       "             STORETIME  VALUENUM  \n",
       "0  2134-05-12 12:38:00       1.0  \n",
       "1  2134-05-12 13:55:00      86.0  \n",
       "2  2134-05-12 13:55:00      21.0  \n",
       "3  2134-05-12 13:55:00      93.0  \n",
       "4  2134-05-12 14:39:00      85.0  "
      ]
     },
     "execution_count": 270,
     "metadata": {},
     "output_type": "execute_result"
    }
   ],
   "source": [
    "selected_chartevents_df.head()"
   ]
  },
  {
   "cell_type": "code",
   "execution_count": 10,
   "id": "controlling-cherry",
   "metadata": {
    "execution": {
     "iopub.execute_input": "2021-03-28T14:32:00.621346Z",
     "iopub.status.busy": "2021-03-28T14:32:00.621156Z",
     "iopub.status.idle": "2021-03-28T14:33:40.214734Z",
     "shell.execute_reply": "2021-03-28T14:33:40.213917Z",
     "shell.execute_reply.started": "2021-03-28T14:32:00.621323Z"
    },
    "tags": []
   },
   "outputs": [],
   "source": [
    "grouped = (\n",
    "    selected_chartevents_df.groupby(\"HADM_ID\")\n",
    "    .apply(lambda x: x.sort_values(\"CHARTTIME\"))\n",
    "    .reset_index(drop=True)\n",
    ")"
   ]
  },
  {
   "cell_type": "code",
   "execution_count": 10,
   "id": "herbal-voluntary",
   "metadata": {
    "execution": {
     "iopub.execute_input": "2021-03-27T13:19:14.848875Z",
     "iopub.status.busy": "2021-03-27T13:19:14.848586Z",
     "iopub.status.idle": "2021-03-27T13:19:14.862257Z",
     "shell.execute_reply": "2021-03-27T13:19:14.861429Z",
     "shell.execute_reply.started": "2021-03-27T13:19:14.848847Z"
    },
    "tags": []
   },
   "outputs": [
    {
     "data": {
      "text/html": [
       "<div>\n",
       "<style scoped>\n",
       "    .dataframe tbody tr th:only-of-type {\n",
       "        vertical-align: middle;\n",
       "    }\n",
       "\n",
       "    .dataframe tbody tr th {\n",
       "        vertical-align: top;\n",
       "    }\n",
       "\n",
       "    .dataframe thead th {\n",
       "        text-align: right;\n",
       "    }\n",
       "</style>\n",
       "<table border=\"1\" class=\"dataframe\">\n",
       "  <thead>\n",
       "    <tr style=\"text-align: right;\">\n",
       "      <th></th>\n",
       "      <th>Unnamed: 0</th>\n",
       "      <th>SUBJECT_ID</th>\n",
       "      <th>HADM_ID</th>\n",
       "      <th>ICUSTAY_ID</th>\n",
       "      <th>ITEMID</th>\n",
       "      <th>CHARTTIME</th>\n",
       "      <th>STORETIME</th>\n",
       "      <th>VALUENUM</th>\n",
       "    </tr>\n",
       "  </thead>\n",
       "  <tbody>\n",
       "    <tr>\n",
       "      <th>0</th>\n",
       "      <td>5823576</td>\n",
       "      <td>58526</td>\n",
       "      <td>100001</td>\n",
       "      <td>275225.0</td>\n",
       "      <td>220210</td>\n",
       "      <td>2117-09-11 12:57:00</td>\n",
       "      <td>2117-09-11 13:00:00</td>\n",
       "      <td>14.0</td>\n",
       "    </tr>\n",
       "    <tr>\n",
       "      <th>1</th>\n",
       "      <td>5823575</td>\n",
       "      <td>58526</td>\n",
       "      <td>100001</td>\n",
       "      <td>275225.0</td>\n",
       "      <td>220045</td>\n",
       "      <td>2117-09-11 12:57:00</td>\n",
       "      <td>2117-09-11 13:00:00</td>\n",
       "      <td>122.0</td>\n",
       "    </tr>\n",
       "    <tr>\n",
       "      <th>2</th>\n",
       "      <td>5823578</td>\n",
       "      <td>58526</td>\n",
       "      <td>100001</td>\n",
       "      <td>275225.0</td>\n",
       "      <td>220210</td>\n",
       "      <td>2117-09-11 13:00:00</td>\n",
       "      <td>2117-09-11 18:13:00</td>\n",
       "      <td>22.0</td>\n",
       "    </tr>\n",
       "    <tr>\n",
       "      <th>3</th>\n",
       "      <td>5823577</td>\n",
       "      <td>58526</td>\n",
       "      <td>100001</td>\n",
       "      <td>275225.0</td>\n",
       "      <td>220045</td>\n",
       "      <td>2117-09-11 13:00:00</td>\n",
       "      <td>2117-09-11 18:13:00</td>\n",
       "      <td>118.0</td>\n",
       "    </tr>\n",
       "    <tr>\n",
       "      <th>4</th>\n",
       "      <td>5823580</td>\n",
       "      <td>58526</td>\n",
       "      <td>100001</td>\n",
       "      <td>275225.0</td>\n",
       "      <td>220210</td>\n",
       "      <td>2117-09-11 13:50:00</td>\n",
       "      <td>2117-09-11 13:00:00</td>\n",
       "      <td>22.0</td>\n",
       "    </tr>\n",
       "  </tbody>\n",
       "</table>\n",
       "</div>"
      ],
      "text/plain": [
       "   Unnamed: 0  SUBJECT_ID  HADM_ID  ICUSTAY_ID  ITEMID            CHARTTIME  \\\n",
       "0     5823576       58526   100001    275225.0  220210  2117-09-11 12:57:00   \n",
       "1     5823575       58526   100001    275225.0  220045  2117-09-11 12:57:00   \n",
       "2     5823578       58526   100001    275225.0  220210  2117-09-11 13:00:00   \n",
       "3     5823577       58526   100001    275225.0  220045  2117-09-11 13:00:00   \n",
       "4     5823580       58526   100001    275225.0  220210  2117-09-11 13:50:00   \n",
       "\n",
       "             STORETIME  VALUENUM  \n",
       "0  2117-09-11 13:00:00      14.0  \n",
       "1  2117-09-11 13:00:00     122.0  \n",
       "2  2117-09-11 18:13:00      22.0  \n",
       "3  2117-09-11 18:13:00     118.0  \n",
       "4  2117-09-11 13:00:00      22.0  "
      ]
     },
     "execution_count": 10,
     "metadata": {},
     "output_type": "execute_result"
    }
   ],
   "source": [
    "grouped.head()"
   ]
  },
  {
   "cell_type": "code",
   "execution_count": 11,
   "id": "permanent-accordance",
   "metadata": {
    "execution": {
     "iopub.execute_input": "2021-03-28T14:33:40.216760Z",
     "iopub.status.busy": "2021-03-28T14:33:40.216539Z",
     "iopub.status.idle": "2021-03-28T14:33:40.220834Z",
     "shell.execute_reply": "2021-03-28T14:33:40.219752Z",
     "shell.execute_reply.started": "2021-03-28T14:33:40.216732Z"
    },
    "tags": []
   },
   "outputs": [],
   "source": [
    "g = grouped.groupby(\"HADM_ID\")"
   ]
  },
  {
   "cell_type": "code",
   "execution_count": 12,
   "id": "convinced-startup",
   "metadata": {
    "execution": {
     "iopub.execute_input": "2021-03-28T14:33:40.222430Z",
     "iopub.status.busy": "2021-03-28T14:33:40.222047Z",
     "iopub.status.idle": "2021-03-28T14:33:40.227982Z",
     "shell.execute_reply": "2021-03-28T14:33:40.227328Z",
     "shell.execute_reply.started": "2021-03-28T14:33:40.222395Z"
    },
    "tags": []
   },
   "outputs": [],
   "source": [
    "def combineColumns(\n",
    "    df: \"target dataframe\",\n",
    "    columns_list: \"list of column names\",\n",
    "    newColumn: \"name of merged column\",\n",
    ") -> \"pd.series\":\n",
    "    real_list = list(filter(lambda x: x in df.columns, columns_list))\n",
    "    #     print(real_list)\n",
    "    if real_list:\n",
    "        n_notNA_series = df[real_list].shape[1] - df[real_list].isna().sum(axis=1)\n",
    "        ret = (\n",
    "            df[real_list]\n",
    "            .fillna(0)\n",
    "            .sum(axis=1)\n",
    "            .replace(0, np.nan)\n",
    "            .divide(n_notNA_series)\n",
    "        )\n",
    "        df.drop(columns=real_list, inplace=True)\n",
    "        df[newColumn] = ret"
   ]
  },
  {
   "cell_type": "code",
   "execution_count": 13,
   "id": "naval-supplier",
   "metadata": {
    "execution": {
     "iopub.execute_input": "2021-03-28T14:33:40.229739Z",
     "iopub.status.busy": "2021-03-28T14:33:40.229450Z",
     "iopub.status.idle": "2021-03-28T14:33:40.236629Z",
     "shell.execute_reply": "2021-03-28T14:33:40.235524Z",
     "shell.execute_reply.started": "2021-03-28T14:33:40.229707Z"
    },
    "tags": []
   },
   "outputs": [],
   "source": [
    "# 合并相同的含义的列\n",
    "def merge(df):\n",
    "    combineColumns(\n",
    "        df,\n",
    "        [\"Temperature Celsius\", \"Temperature C\", \"Temperature C (calc)\"],\n",
    "        \"Temperature\",\n",
    "    )\n",
    "    combineColumns(\n",
    "        df,\n",
    "        [\n",
    "            \"ABP [Systolic]\",\n",
    "            \"Arterial BP [Systolic]\",\n",
    "            \"Arterial Blood Pressure systolic\",\n",
    "        ],\n",
    "        \"ABP-S\",\n",
    "    )\n",
    "    combineColumns(\n",
    "        df,\n",
    "        [\n",
    "            \"ABP [Diastolic]\",\n",
    "            \"Arterial BP [Diastolic]\",\n",
    "            \"Arterial Blood Pressure diastolic\",\n",
    "        ],\n",
    "        \"ABP-D\",\n",
    "    )\n",
    "    combineColumns(df, [\"Arterial BP Mean\", \"Arterial Blood Pressure mean\"], \"ABP-M\")\n",
    "    combineColumns(df, [\"Respiratory Rate\", \"Respiratory Rate (Total)\"], \"RR\")\n",
    "    combineColumns(\n",
    "        df, [\"ph level\", \"PH\", \"Ph\",], \"PH\",\n",
    "    )\n",
    "    combineColumns(df, [\"Present Weight  (kg)\", \"Weight Kg\",], \"weight\")\n",
    "    combineColumns(\n",
    "        df, [\"Arterial O2 Saturation\", \"O2 saturation pulseoxymetry\", \"SaO2\"], \"SaO2\"\n",
    "    )\n",
    "    duplicated_columns = df.columns[df.columns.duplicated()]\n",
    "    for c in duplicated_columns:\n",
    "        combineColumns(df, [c], c)"
   ]
  },
  {
   "cell_type": "code",
   "execution_count": 355,
   "id": "champion-contents",
   "metadata": {
    "execution": {
     "iopub.execute_input": "2021-03-24T12:07:47.600227Z",
     "iopub.status.busy": "2021-03-24T12:07:47.600028Z",
     "iopub.status.idle": "2021-03-24T12:07:47.610704Z",
     "shell.execute_reply": "2021-03-24T12:07:47.609974Z",
     "shell.execute_reply.started": "2021-03-24T12:07:47.600204Z"
    },
    "tags": []
   },
   "outputs": [
    {
     "name": "stdout",
     "output_type": "stream",
     "text": [
      "307 304\n",
      "          ITEMID            CHARTTIME    VALUENUM\n",
      "30042149     211  2192-11-12 19:45:00   71.000000\n",
      "30042150     618  2192-11-12 19:45:00   21.000000\n",
      "30042151     677  2192-11-12 20:00:00   35.888901\n",
      "30042152     618  2192-11-12 20:00:00   15.000000\n",
      "30042153     211  2192-11-12 20:00:00   64.000000\n",
      "...          ...                  ...         ...\n",
      "30042451     618  2192-11-14 12:00:00   26.000000\n",
      "30042452     211  2192-11-14 12:00:00  100.000000\n",
      "30042453     211  2192-11-14 13:00:00   90.000000\n",
      "30042454     677  2192-11-14 13:00:00   36.333302\n",
      "30042455     618  2192-11-14 13:00:00   26.000000\n",
      "\n",
      "[304 rows x 3 columns]\n"
     ]
    }
   ],
   "source": [
    "x = g.get_group(187556)[[\"ITEMID\", \"CHARTTIME\", \"VALUENUM\"]]\n",
    "print(len(x), len(x.drop_duplicates()))\n",
    "print(x.drop_duplicates())\n",
    "# print(x.drop_duplicates().pivot(index=\"CHARTTIME\", columns=\"ITEMID\", values=\"VALUENUM\"))"
   ]
  },
  {
   "cell_type": "code",
   "execution_count": 345,
   "id": "judicial-scottish",
   "metadata": {
    "collapsed": true,
    "execution": {
     "iopub.execute_input": "2021-03-24T12:00:43.554689Z",
     "iopub.status.busy": "2021-03-24T12:00:43.554477Z",
     "iopub.status.idle": "2021-03-24T12:00:43.575986Z",
     "shell.execute_reply": "2021-03-24T12:00:43.574950Z",
     "shell.execute_reply.started": "2021-03-24T12:00:43.554665Z"
    },
    "jupyter": {
     "outputs_hidden": true,
     "source_hidden": true
    },
    "tags": []
   },
   "outputs": [
    {
     "ename": "ValueError",
     "evalue": "Index contains duplicate entries, cannot reshape",
     "output_type": "error",
     "traceback": [
      "\u001b[0;31m---------------------------------------------------------------------------\u001b[0m",
      "\u001b[0;31mValueError\u001b[0m                                Traceback (most recent call last)",
      "\u001b[0;32m<ipython-input-345-461d2a7f0c94>\u001b[0m in \u001b[0;36m<module>\u001b[0;34m\u001b[0m\n\u001b[1;32m      1\u001b[0m \u001b[0;31m# test\u001b[0m\u001b[0;34m\u001b[0m\u001b[0;34m\u001b[0m\u001b[0;34m\u001b[0m\u001b[0m\n\u001b[1;32m      2\u001b[0m \u001b[0;31m# 忽略这个cell\u001b[0m\u001b[0;34m\u001b[0m\u001b[0;34m\u001b[0m\u001b[0;34m\u001b[0m\u001b[0m\n\u001b[0;32m----> 3\u001b[0;31m \u001b[0mt\u001b[0m \u001b[0;34m=\u001b[0m \u001b[0mg\u001b[0m\u001b[0;34m.\u001b[0m\u001b[0mget_group\u001b[0m\u001b[0;34m(\u001b[0m\u001b[0;36m187556\u001b[0m\u001b[0;34m)\u001b[0m\u001b[0;34m.\u001b[0m\u001b[0mpivot\u001b[0m\u001b[0;34m(\u001b[0m\u001b[0mindex\u001b[0m\u001b[0;34m=\u001b[0m\u001b[0;34m\"CHARTTIME\"\u001b[0m\u001b[0;34m,\u001b[0m \u001b[0mcolumns\u001b[0m\u001b[0;34m=\u001b[0m\u001b[0;34m\"ITEMID\"\u001b[0m\u001b[0;34m,\u001b[0m \u001b[0mvalues\u001b[0m\u001b[0;34m=\u001b[0m\u001b[0;34m\"VALUENUM\"\u001b[0m\u001b[0;34m)\u001b[0m\u001b[0;34m\u001b[0m\u001b[0;34m\u001b[0m\u001b[0m\n\u001b[0m\u001b[1;32m      4\u001b[0m t.columns = list(\n\u001b[1;32m      5\u001b[0m     map(\n",
      "\u001b[0;32m~/opt/anaconda3/envs/dev/lib/python3.7/site-packages/pandas/core/frame.py\u001b[0m in \u001b[0;36mpivot\u001b[0;34m(self, index, columns, values)\u001b[0m\n\u001b[1;32m   6877\u001b[0m         \u001b[0;32mfrom\u001b[0m \u001b[0mpandas\u001b[0m\u001b[0;34m.\u001b[0m\u001b[0mcore\u001b[0m\u001b[0;34m.\u001b[0m\u001b[0mreshape\u001b[0m\u001b[0;34m.\u001b[0m\u001b[0mpivot\u001b[0m \u001b[0;32mimport\u001b[0m \u001b[0mpivot\u001b[0m\u001b[0;34m\u001b[0m\u001b[0;34m\u001b[0m\u001b[0m\n\u001b[1;32m   6878\u001b[0m \u001b[0;34m\u001b[0m\u001b[0m\n\u001b[0;32m-> 6879\u001b[0;31m         \u001b[0;32mreturn\u001b[0m \u001b[0mpivot\u001b[0m\u001b[0;34m(\u001b[0m\u001b[0mself\u001b[0m\u001b[0;34m,\u001b[0m \u001b[0mindex\u001b[0m\u001b[0;34m=\u001b[0m\u001b[0mindex\u001b[0m\u001b[0;34m,\u001b[0m \u001b[0mcolumns\u001b[0m\u001b[0;34m=\u001b[0m\u001b[0mcolumns\u001b[0m\u001b[0;34m,\u001b[0m \u001b[0mvalues\u001b[0m\u001b[0;34m=\u001b[0m\u001b[0mvalues\u001b[0m\u001b[0;34m)\u001b[0m\u001b[0;34m\u001b[0m\u001b[0;34m\u001b[0m\u001b[0m\n\u001b[0m\u001b[1;32m   6880\u001b[0m \u001b[0;34m\u001b[0m\u001b[0m\n\u001b[1;32m   6881\u001b[0m     _shared_docs[\n",
      "\u001b[0;32m~/opt/anaconda3/envs/dev/lib/python3.7/site-packages/pandas/core/reshape/pivot.py\u001b[0m in \u001b[0;36mpivot\u001b[0;34m(data, index, columns, values)\u001b[0m\n\u001b[1;32m    459\u001b[0m         \u001b[0;32melse\u001b[0m\u001b[0;34m:\u001b[0m\u001b[0;34m\u001b[0m\u001b[0;34m\u001b[0m\u001b[0m\n\u001b[1;32m    460\u001b[0m             \u001b[0mindexed\u001b[0m \u001b[0;34m=\u001b[0m \u001b[0mdata\u001b[0m\u001b[0;34m.\u001b[0m\u001b[0m_constructor_sliced\u001b[0m\u001b[0;34m(\u001b[0m\u001b[0mdata\u001b[0m\u001b[0;34m[\u001b[0m\u001b[0mvalues\u001b[0m\u001b[0;34m]\u001b[0m\u001b[0;34m.\u001b[0m\u001b[0m_values\u001b[0m\u001b[0;34m,\u001b[0m \u001b[0mindex\u001b[0m\u001b[0;34m=\u001b[0m\u001b[0mindex\u001b[0m\u001b[0;34m)\u001b[0m\u001b[0;34m\u001b[0m\u001b[0;34m\u001b[0m\u001b[0m\n\u001b[0;32m--> 461\u001b[0;31m     \u001b[0;32mreturn\u001b[0m \u001b[0mindexed\u001b[0m\u001b[0;34m.\u001b[0m\u001b[0munstack\u001b[0m\u001b[0;34m(\u001b[0m\u001b[0mcolumns\u001b[0m\u001b[0;34m)\u001b[0m\u001b[0;34m\u001b[0m\u001b[0;34m\u001b[0m\u001b[0m\n\u001b[0m\u001b[1;32m    462\u001b[0m \u001b[0;34m\u001b[0m\u001b[0m\n\u001b[1;32m    463\u001b[0m \u001b[0;34m\u001b[0m\u001b[0m\n",
      "\u001b[0;32m~/opt/anaconda3/envs/dev/lib/python3.7/site-packages/pandas/core/series.py\u001b[0m in \u001b[0;36munstack\u001b[0;34m(self, level, fill_value)\u001b[0m\n\u001b[1;32m   3827\u001b[0m         \u001b[0;32mfrom\u001b[0m \u001b[0mpandas\u001b[0m\u001b[0;34m.\u001b[0m\u001b[0mcore\u001b[0m\u001b[0;34m.\u001b[0m\u001b[0mreshape\u001b[0m\u001b[0;34m.\u001b[0m\u001b[0mreshape\u001b[0m \u001b[0;32mimport\u001b[0m \u001b[0munstack\u001b[0m\u001b[0;34m\u001b[0m\u001b[0;34m\u001b[0m\u001b[0m\n\u001b[1;32m   3828\u001b[0m \u001b[0;34m\u001b[0m\u001b[0m\n\u001b[0;32m-> 3829\u001b[0;31m         \u001b[0;32mreturn\u001b[0m \u001b[0munstack\u001b[0m\u001b[0;34m(\u001b[0m\u001b[0mself\u001b[0m\u001b[0;34m,\u001b[0m \u001b[0mlevel\u001b[0m\u001b[0;34m,\u001b[0m \u001b[0mfill_value\u001b[0m\u001b[0;34m)\u001b[0m\u001b[0;34m\u001b[0m\u001b[0;34m\u001b[0m\u001b[0m\n\u001b[0m\u001b[1;32m   3830\u001b[0m \u001b[0;34m\u001b[0m\u001b[0m\n\u001b[1;32m   3831\u001b[0m     \u001b[0;31m# ----------------------------------------------------------------------\u001b[0m\u001b[0;34m\u001b[0m\u001b[0;34m\u001b[0m\u001b[0;34m\u001b[0m\u001b[0m\n",
      "\u001b[0;32m~/opt/anaconda3/envs/dev/lib/python3.7/site-packages/pandas/core/reshape/reshape.py\u001b[0m in \u001b[0;36munstack\u001b[0;34m(obj, level, fill_value)\u001b[0m\n\u001b[1;32m    429\u001b[0m             \u001b[0;32mreturn\u001b[0m \u001b[0m_unstack_extension_series\u001b[0m\u001b[0;34m(\u001b[0m\u001b[0mobj\u001b[0m\u001b[0;34m,\u001b[0m \u001b[0mlevel\u001b[0m\u001b[0;34m,\u001b[0m \u001b[0mfill_value\u001b[0m\u001b[0;34m)\u001b[0m\u001b[0;34m\u001b[0m\u001b[0;34m\u001b[0m\u001b[0m\n\u001b[1;32m    430\u001b[0m         unstacker = _Unstacker(\n\u001b[0;32m--> 431\u001b[0;31m             \u001b[0mobj\u001b[0m\u001b[0;34m.\u001b[0m\u001b[0mindex\u001b[0m\u001b[0;34m,\u001b[0m \u001b[0mlevel\u001b[0m\u001b[0;34m=\u001b[0m\u001b[0mlevel\u001b[0m\u001b[0;34m,\u001b[0m \u001b[0mconstructor\u001b[0m\u001b[0;34m=\u001b[0m\u001b[0mobj\u001b[0m\u001b[0;34m.\u001b[0m\u001b[0m_constructor_expanddim\u001b[0m\u001b[0;34m\u001b[0m\u001b[0;34m\u001b[0m\u001b[0m\n\u001b[0m\u001b[1;32m    432\u001b[0m         )\n\u001b[1;32m    433\u001b[0m         return unstacker.get_result(\n",
      "\u001b[0;32m~/opt/anaconda3/envs/dev/lib/python3.7/site-packages/pandas/core/reshape/reshape.py\u001b[0m in \u001b[0;36m__init__\u001b[0;34m(self, index, level, constructor)\u001b[0m\n\u001b[1;32m    116\u001b[0m             \u001b[0;32mraise\u001b[0m \u001b[0mValueError\u001b[0m\u001b[0;34m(\u001b[0m\u001b[0;34m\"Unstacked DataFrame is too big, causing int32 overflow\"\u001b[0m\u001b[0;34m)\u001b[0m\u001b[0;34m\u001b[0m\u001b[0;34m\u001b[0m\u001b[0m\n\u001b[1;32m    117\u001b[0m \u001b[0;34m\u001b[0m\u001b[0m\n\u001b[0;32m--> 118\u001b[0;31m         \u001b[0mself\u001b[0m\u001b[0;34m.\u001b[0m\u001b[0m_make_selectors\u001b[0m\u001b[0;34m(\u001b[0m\u001b[0;34m)\u001b[0m\u001b[0;34m\u001b[0m\u001b[0;34m\u001b[0m\u001b[0m\n\u001b[0m\u001b[1;32m    119\u001b[0m \u001b[0;34m\u001b[0m\u001b[0m\n\u001b[1;32m    120\u001b[0m     \u001b[0;34m@\u001b[0m\u001b[0mcache_readonly\u001b[0m\u001b[0;34m\u001b[0m\u001b[0;34m\u001b[0m\u001b[0m\n",
      "\u001b[0;32m~/opt/anaconda3/envs/dev/lib/python3.7/site-packages/pandas/core/reshape/reshape.py\u001b[0m in \u001b[0;36m_make_selectors\u001b[0;34m(self)\u001b[0m\n\u001b[1;32m    165\u001b[0m \u001b[0;34m\u001b[0m\u001b[0m\n\u001b[1;32m    166\u001b[0m         \u001b[0;32mif\u001b[0m \u001b[0mmask\u001b[0m\u001b[0;34m.\u001b[0m\u001b[0msum\u001b[0m\u001b[0;34m(\u001b[0m\u001b[0;34m)\u001b[0m \u001b[0;34m<\u001b[0m \u001b[0mlen\u001b[0m\u001b[0;34m(\u001b[0m\u001b[0mself\u001b[0m\u001b[0;34m.\u001b[0m\u001b[0mindex\u001b[0m\u001b[0;34m)\u001b[0m\u001b[0;34m:\u001b[0m\u001b[0;34m\u001b[0m\u001b[0;34m\u001b[0m\u001b[0m\n\u001b[0;32m--> 167\u001b[0;31m             \u001b[0;32mraise\u001b[0m \u001b[0mValueError\u001b[0m\u001b[0;34m(\u001b[0m\u001b[0;34m\"Index contains duplicate entries, cannot reshape\"\u001b[0m\u001b[0;34m)\u001b[0m\u001b[0;34m\u001b[0m\u001b[0;34m\u001b[0m\u001b[0m\n\u001b[0m\u001b[1;32m    168\u001b[0m \u001b[0;34m\u001b[0m\u001b[0m\n\u001b[1;32m    169\u001b[0m         \u001b[0mself\u001b[0m\u001b[0;34m.\u001b[0m\u001b[0mgroup_index\u001b[0m \u001b[0;34m=\u001b[0m \u001b[0mcomp_index\u001b[0m\u001b[0;34m\u001b[0m\u001b[0;34m\u001b[0m\u001b[0m\n",
      "\u001b[0;31mValueError\u001b[0m: Index contains duplicate entries, cannot reshape"
     ]
    }
   ],
   "source": [
    "# test\n",
    "# 忽略这个cell\n",
    "t = g.get_group(187556).pivot(index=\"CHARTTIME\", columns=\"ITEMID\", values=\"VALUENUM\")\n",
    "t.columns = list(\n",
    "    map(\n",
    "        lambda x: str(x).replace(\n",
    "            str(x), selected_itemids_df.LABEL[selected_itemids_df.ITEMID == x].iloc[0],\n",
    "        ),\n",
    "        t.columns,\n",
    "    )\n",
    ")\n",
    "t.reset_index(inplace=True)\n",
    "print(t.head())\n",
    "print(t.shape)\n",
    "merge(t)\n",
    "print(t.shape)"
   ]
  },
  {
   "cell_type": "code",
   "execution_count": null,
   "id": "foreign-engagement",
   "metadata": {
    "tags": []
   },
   "outputs": [],
   "source": []
  },
  {
   "cell_type": "code",
   "execution_count": 323,
   "id": "derived-liquid",
   "metadata": {
    "collapsed": true,
    "execution": {
     "iopub.execute_input": "2021-03-24T10:54:48.798878Z",
     "iopub.status.busy": "2021-03-24T10:54:48.798746Z",
     "iopub.status.idle": "2021-03-24T10:54:48.821134Z",
     "shell.execute_reply": "2021-03-24T10:54:48.820080Z",
     "shell.execute_reply.started": "2021-03-24T10:54:48.798858Z"
    },
    "jupyter": {
     "outputs_hidden": true
    },
    "tags": []
   },
   "outputs": [
    {
     "name": "stdout",
     "output_type": "stream",
     "text": [
      "13   2191-02-23 05:23:00\n",
      "Name: ADMITTIME, dtype: datetime64[ns]\n",
      "34\n",
      "1886\n"
     ]
    },
    {
     "ename": "OverflowError",
     "evalue": "Overflow in int64 addition",
     "output_type": "error",
     "traceback": [
      "\u001b[0;31m---------------------------------------------------------------------------\u001b[0m",
      "\u001b[0;31mOverflowError\u001b[0m                             Traceback (most recent call last)",
      "\u001b[0;32m<ipython-input-323-ae09d8d7bbd6>\u001b[0m in \u001b[0;36m<module>\u001b[0;34m\u001b[0m\n\u001b[1;32m      5\u001b[0m \u001b[0mb\u001b[0m \u001b[0;34m=\u001b[0m \u001b[0mpd\u001b[0m\u001b[0;34m.\u001b[0m\u001b[0mto_datetime\u001b[0m\u001b[0;34m(\u001b[0m\u001b[0mpatient_df\u001b[0m\u001b[0;34m[\u001b[0m\u001b[0mpatient_df\u001b[0m\u001b[0;34m.\u001b[0m\u001b[0mSUBJECT_ID\u001b[0m \u001b[0;34m==\u001b[0m \u001b[0msid\u001b[0m\u001b[0;34m]\u001b[0m\u001b[0;34m.\u001b[0m\u001b[0mDOB\u001b[0m\u001b[0;34m.\u001b[0m\u001b[0mvalues\u001b[0m\u001b[0;34m[\u001b[0m\u001b[0;36m0\u001b[0m\u001b[0;34m]\u001b[0m\u001b[0;34m)\u001b[0m\u001b[0;34m\u001b[0m\u001b[0;34m\u001b[0m\u001b[0m\n\u001b[1;32m      6\u001b[0m \u001b[0mprint\u001b[0m\u001b[0;34m(\u001b[0m\u001b[0mb\u001b[0m\u001b[0;34m.\u001b[0m\u001b[0myear\u001b[0m\u001b[0;34m)\u001b[0m\u001b[0;34m\u001b[0m\u001b[0;34m\u001b[0m\u001b[0m\n\u001b[0;32m----> 7\u001b[0;31m \u001b[0mprint\u001b[0m\u001b[0;34m(\u001b[0m\u001b[0;34m(\u001b[0m\u001b[0mpd\u001b[0m\u001b[0;34m.\u001b[0m\u001b[0mto_datetime\u001b[0m\u001b[0;34m(\u001b[0m\u001b[0mt\u001b[0m\u001b[0;34m.\u001b[0m\u001b[0mCHARTTIME\u001b[0m\u001b[0;34m)\u001b[0m \u001b[0;34m-\u001b[0m \u001b[0mb\u001b[0m\u001b[0;34m)\u001b[0m\u001b[0;34m)\u001b[0m\u001b[0;34m\u001b[0m\u001b[0;34m\u001b[0m\u001b[0m\n\u001b[0m\u001b[1;32m      8\u001b[0m \u001b[0;31m# t[\"AGE\"] = (pd.to_datetime(t.CHARTTIME) - b) / pd.Timedelta(1, \"D\")\u001b[0m\u001b[0;34m\u001b[0m\u001b[0;34m\u001b[0m\u001b[0;34m\u001b[0m\u001b[0m\n",
      "\u001b[0;32m~/opt/anaconda3/envs/dev/lib/python3.7/site-packages/pandas/core/ops/common.py\u001b[0m in \u001b[0;36mnew_method\u001b[0;34m(self, other)\u001b[0m\n\u001b[1;32m     63\u001b[0m         \u001b[0mother\u001b[0m \u001b[0;34m=\u001b[0m \u001b[0mitem_from_zerodim\u001b[0m\u001b[0;34m(\u001b[0m\u001b[0mother\u001b[0m\u001b[0;34m)\u001b[0m\u001b[0;34m\u001b[0m\u001b[0;34m\u001b[0m\u001b[0m\n\u001b[1;32m     64\u001b[0m \u001b[0;34m\u001b[0m\u001b[0m\n\u001b[0;32m---> 65\u001b[0;31m         \u001b[0;32mreturn\u001b[0m \u001b[0mmethod\u001b[0m\u001b[0;34m(\u001b[0m\u001b[0mself\u001b[0m\u001b[0;34m,\u001b[0m \u001b[0mother\u001b[0m\u001b[0;34m)\u001b[0m\u001b[0;34m\u001b[0m\u001b[0;34m\u001b[0m\u001b[0m\n\u001b[0m\u001b[1;32m     66\u001b[0m \u001b[0;34m\u001b[0m\u001b[0m\n\u001b[1;32m     67\u001b[0m     \u001b[0;32mreturn\u001b[0m \u001b[0mnew_method\u001b[0m\u001b[0;34m\u001b[0m\u001b[0;34m\u001b[0m\u001b[0m\n",
      "\u001b[0;32m~/opt/anaconda3/envs/dev/lib/python3.7/site-packages/pandas/core/arraylike.py\u001b[0m in \u001b[0;36m__sub__\u001b[0;34m(self, other)\u001b[0m\n\u001b[1;32m     95\u001b[0m     \u001b[0;34m@\u001b[0m\u001b[0munpack_zerodim_and_defer\u001b[0m\u001b[0;34m(\u001b[0m\u001b[0;34m\"__sub__\"\u001b[0m\u001b[0;34m)\u001b[0m\u001b[0;34m\u001b[0m\u001b[0;34m\u001b[0m\u001b[0m\n\u001b[1;32m     96\u001b[0m     \u001b[0;32mdef\u001b[0m \u001b[0m__sub__\u001b[0m\u001b[0;34m(\u001b[0m\u001b[0mself\u001b[0m\u001b[0;34m,\u001b[0m \u001b[0mother\u001b[0m\u001b[0;34m)\u001b[0m\u001b[0;34m:\u001b[0m\u001b[0;34m\u001b[0m\u001b[0;34m\u001b[0m\u001b[0m\n\u001b[0;32m---> 97\u001b[0;31m         \u001b[0;32mreturn\u001b[0m \u001b[0mself\u001b[0m\u001b[0;34m.\u001b[0m\u001b[0m_arith_method\u001b[0m\u001b[0;34m(\u001b[0m\u001b[0mother\u001b[0m\u001b[0;34m,\u001b[0m \u001b[0moperator\u001b[0m\u001b[0;34m.\u001b[0m\u001b[0msub\u001b[0m\u001b[0;34m)\u001b[0m\u001b[0;34m\u001b[0m\u001b[0;34m\u001b[0m\u001b[0m\n\u001b[0m\u001b[1;32m     98\u001b[0m \u001b[0;34m\u001b[0m\u001b[0m\n\u001b[1;32m     99\u001b[0m     \u001b[0;34m@\u001b[0m\u001b[0munpack_zerodim_and_defer\u001b[0m\u001b[0;34m(\u001b[0m\u001b[0;34m\"__rsub__\"\u001b[0m\u001b[0;34m)\u001b[0m\u001b[0;34m\u001b[0m\u001b[0;34m\u001b[0m\u001b[0m\n",
      "\u001b[0;32m~/opt/anaconda3/envs/dev/lib/python3.7/site-packages/pandas/core/series.py\u001b[0m in \u001b[0;36m_arith_method\u001b[0;34m(self, other, op)\u001b[0m\n\u001b[1;32m   4996\u001b[0m         \u001b[0mlvalues\u001b[0m \u001b[0;34m=\u001b[0m \u001b[0mextract_array\u001b[0m\u001b[0;34m(\u001b[0m\u001b[0mself\u001b[0m\u001b[0;34m,\u001b[0m \u001b[0mextract_numpy\u001b[0m\u001b[0;34m=\u001b[0m\u001b[0;32mTrue\u001b[0m\u001b[0;34m)\u001b[0m\u001b[0;34m\u001b[0m\u001b[0;34m\u001b[0m\u001b[0m\n\u001b[1;32m   4997\u001b[0m         \u001b[0mrvalues\u001b[0m \u001b[0;34m=\u001b[0m \u001b[0mextract_array\u001b[0m\u001b[0;34m(\u001b[0m\u001b[0mother\u001b[0m\u001b[0;34m,\u001b[0m \u001b[0mextract_numpy\u001b[0m\u001b[0;34m=\u001b[0m\u001b[0;32mTrue\u001b[0m\u001b[0;34m)\u001b[0m\u001b[0;34m\u001b[0m\u001b[0;34m\u001b[0m\u001b[0m\n\u001b[0;32m-> 4998\u001b[0;31m         \u001b[0mresult\u001b[0m \u001b[0;34m=\u001b[0m \u001b[0mops\u001b[0m\u001b[0;34m.\u001b[0m\u001b[0marithmetic_op\u001b[0m\u001b[0;34m(\u001b[0m\u001b[0mlvalues\u001b[0m\u001b[0;34m,\u001b[0m \u001b[0mrvalues\u001b[0m\u001b[0;34m,\u001b[0m \u001b[0mop\u001b[0m\u001b[0;34m)\u001b[0m\u001b[0;34m\u001b[0m\u001b[0;34m\u001b[0m\u001b[0m\n\u001b[0m\u001b[1;32m   4999\u001b[0m \u001b[0;34m\u001b[0m\u001b[0m\n\u001b[1;32m   5000\u001b[0m         \u001b[0;32mreturn\u001b[0m \u001b[0mself\u001b[0m\u001b[0;34m.\u001b[0m\u001b[0m_construct_result\u001b[0m\u001b[0;34m(\u001b[0m\u001b[0mresult\u001b[0m\u001b[0;34m,\u001b[0m \u001b[0mname\u001b[0m\u001b[0;34m=\u001b[0m\u001b[0mres_name\u001b[0m\u001b[0;34m)\u001b[0m\u001b[0;34m\u001b[0m\u001b[0;34m\u001b[0m\u001b[0m\n",
      "\u001b[0;32m~/opt/anaconda3/envs/dev/lib/python3.7/site-packages/pandas/core/ops/array_ops.py\u001b[0m in \u001b[0;36marithmetic_op\u001b[0;34m(left, right, op)\u001b[0m\n\u001b[1;32m    183\u001b[0m     \u001b[0;32mif\u001b[0m \u001b[0mshould_extension_dispatch\u001b[0m\u001b[0;34m(\u001b[0m\u001b[0mlvalues\u001b[0m\u001b[0;34m,\u001b[0m \u001b[0mrvalues\u001b[0m\u001b[0;34m)\u001b[0m \u001b[0;32mor\u001b[0m \u001b[0misinstance\u001b[0m\u001b[0;34m(\u001b[0m\u001b[0mrvalues\u001b[0m\u001b[0;34m,\u001b[0m \u001b[0mTimedelta\u001b[0m\u001b[0;34m)\u001b[0m\u001b[0;34m:\u001b[0m\u001b[0;34m\u001b[0m\u001b[0;34m\u001b[0m\u001b[0m\n\u001b[1;32m    184\u001b[0m         \u001b[0;31m# Timedelta is included because numexpr will fail on it, see GH#31457\u001b[0m\u001b[0;34m\u001b[0m\u001b[0;34m\u001b[0m\u001b[0;34m\u001b[0m\u001b[0m\n\u001b[0;32m--> 185\u001b[0;31m         \u001b[0mres_values\u001b[0m \u001b[0;34m=\u001b[0m \u001b[0mop\u001b[0m\u001b[0;34m(\u001b[0m\u001b[0mlvalues\u001b[0m\u001b[0;34m,\u001b[0m \u001b[0mrvalues\u001b[0m\u001b[0;34m)\u001b[0m\u001b[0;34m\u001b[0m\u001b[0;34m\u001b[0m\u001b[0m\n\u001b[0m\u001b[1;32m    186\u001b[0m \u001b[0;34m\u001b[0m\u001b[0m\n\u001b[1;32m    187\u001b[0m     \u001b[0;32melse\u001b[0m\u001b[0;34m:\u001b[0m\u001b[0;34m\u001b[0m\u001b[0;34m\u001b[0m\u001b[0m\n",
      "\u001b[0;32m~/opt/anaconda3/envs/dev/lib/python3.7/site-packages/pandas/core/ops/common.py\u001b[0m in \u001b[0;36mnew_method\u001b[0;34m(self, other)\u001b[0m\n\u001b[1;32m     63\u001b[0m         \u001b[0mother\u001b[0m \u001b[0;34m=\u001b[0m \u001b[0mitem_from_zerodim\u001b[0m\u001b[0;34m(\u001b[0m\u001b[0mother\u001b[0m\u001b[0;34m)\u001b[0m\u001b[0;34m\u001b[0m\u001b[0;34m\u001b[0m\u001b[0m\n\u001b[1;32m     64\u001b[0m \u001b[0;34m\u001b[0m\u001b[0m\n\u001b[0;32m---> 65\u001b[0;31m         \u001b[0;32mreturn\u001b[0m \u001b[0mmethod\u001b[0m\u001b[0;34m(\u001b[0m\u001b[0mself\u001b[0m\u001b[0;34m,\u001b[0m \u001b[0mother\u001b[0m\u001b[0;34m)\u001b[0m\u001b[0;34m\u001b[0m\u001b[0;34m\u001b[0m\u001b[0m\n\u001b[0m\u001b[1;32m     66\u001b[0m \u001b[0;34m\u001b[0m\u001b[0m\n\u001b[1;32m     67\u001b[0m     \u001b[0;32mreturn\u001b[0m \u001b[0mnew_method\u001b[0m\u001b[0;34m\u001b[0m\u001b[0;34m\u001b[0m\u001b[0m\n",
      "\u001b[0;32m~/opt/anaconda3/envs/dev/lib/python3.7/site-packages/pandas/core/arrays/datetimelike.py\u001b[0m in \u001b[0;36m__sub__\u001b[0;34m(self, other)\u001b[0m\n\u001b[1;32m   1225\u001b[0m             \u001b[0mresult\u001b[0m \u001b[0;34m=\u001b[0m \u001b[0mself\u001b[0m\u001b[0;34m.\u001b[0m\u001b[0m_add_offset\u001b[0m\u001b[0;34m(\u001b[0m\u001b[0;34m-\u001b[0m\u001b[0mother\u001b[0m\u001b[0;34m)\u001b[0m\u001b[0;34m\u001b[0m\u001b[0;34m\u001b[0m\u001b[0m\n\u001b[1;32m   1226\u001b[0m         \u001b[0;32melif\u001b[0m \u001b[0misinstance\u001b[0m\u001b[0;34m(\u001b[0m\u001b[0mother\u001b[0m\u001b[0;34m,\u001b[0m \u001b[0;34m(\u001b[0m\u001b[0mdatetime\u001b[0m\u001b[0;34m,\u001b[0m \u001b[0mnp\u001b[0m\u001b[0;34m.\u001b[0m\u001b[0mdatetime64\u001b[0m\u001b[0;34m)\u001b[0m\u001b[0;34m)\u001b[0m\u001b[0;34m:\u001b[0m\u001b[0;34m\u001b[0m\u001b[0;34m\u001b[0m\u001b[0m\n\u001b[0;32m-> 1227\u001b[0;31m             \u001b[0mresult\u001b[0m \u001b[0;34m=\u001b[0m \u001b[0mself\u001b[0m\u001b[0;34m.\u001b[0m\u001b[0m_sub_datetimelike_scalar\u001b[0m\u001b[0;34m(\u001b[0m\u001b[0mother\u001b[0m\u001b[0;34m)\u001b[0m\u001b[0;34m\u001b[0m\u001b[0;34m\u001b[0m\u001b[0m\n\u001b[0m\u001b[1;32m   1228\u001b[0m         \u001b[0;32melif\u001b[0m \u001b[0mlib\u001b[0m\u001b[0;34m.\u001b[0m\u001b[0mis_integer\u001b[0m\u001b[0;34m(\u001b[0m\u001b[0mother\u001b[0m\u001b[0;34m)\u001b[0m\u001b[0;34m:\u001b[0m\u001b[0;34m\u001b[0m\u001b[0;34m\u001b[0m\u001b[0m\n\u001b[1;32m   1229\u001b[0m             \u001b[0;31m# This check must come after the check for np.timedelta64\u001b[0m\u001b[0;34m\u001b[0m\u001b[0;34m\u001b[0m\u001b[0;34m\u001b[0m\u001b[0m\n",
      "\u001b[0;32m~/opt/anaconda3/envs/dev/lib/python3.7/site-packages/pandas/core/arrays/datetimes.py\u001b[0m in \u001b[0;36m_sub_datetimelike_scalar\u001b[0;34m(self, other)\u001b[0m\n\u001b[1;32m    726\u001b[0m \u001b[0;34m\u001b[0m\u001b[0m\n\u001b[1;32m    727\u001b[0m         \u001b[0mi8\u001b[0m \u001b[0;34m=\u001b[0m \u001b[0mself\u001b[0m\u001b[0;34m.\u001b[0m\u001b[0masi8\u001b[0m\u001b[0;34m\u001b[0m\u001b[0;34m\u001b[0m\u001b[0m\n\u001b[0;32m--> 728\u001b[0;31m         \u001b[0mresult\u001b[0m \u001b[0;34m=\u001b[0m \u001b[0mchecked_add_with_arr\u001b[0m\u001b[0;34m(\u001b[0m\u001b[0mi8\u001b[0m\u001b[0;34m,\u001b[0m \u001b[0;34m-\u001b[0m\u001b[0mother\u001b[0m\u001b[0;34m.\u001b[0m\u001b[0mvalue\u001b[0m\u001b[0;34m,\u001b[0m \u001b[0marr_mask\u001b[0m\u001b[0;34m=\u001b[0m\u001b[0mself\u001b[0m\u001b[0;34m.\u001b[0m\u001b[0m_isnan\u001b[0m\u001b[0;34m)\u001b[0m\u001b[0;34m\u001b[0m\u001b[0;34m\u001b[0m\u001b[0m\n\u001b[0m\u001b[1;32m    729\u001b[0m         \u001b[0mresult\u001b[0m \u001b[0;34m=\u001b[0m \u001b[0mself\u001b[0m\u001b[0;34m.\u001b[0m\u001b[0m_maybe_mask_results\u001b[0m\u001b[0;34m(\u001b[0m\u001b[0mresult\u001b[0m\u001b[0;34m)\u001b[0m\u001b[0;34m\u001b[0m\u001b[0;34m\u001b[0m\u001b[0m\n\u001b[1;32m    730\u001b[0m         \u001b[0;32mreturn\u001b[0m \u001b[0mresult\u001b[0m\u001b[0;34m.\u001b[0m\u001b[0mview\u001b[0m\u001b[0;34m(\u001b[0m\u001b[0;34m\"timedelta64[ns]\"\u001b[0m\u001b[0;34m)\u001b[0m\u001b[0;34m\u001b[0m\u001b[0;34m\u001b[0m\u001b[0m\n",
      "\u001b[0;32m~/opt/anaconda3/envs/dev/lib/python3.7/site-packages/pandas/core/algorithms.py\u001b[0m in \u001b[0;36mchecked_add_with_arr\u001b[0;34m(arr, b, arr_mask, b_mask)\u001b[0m\n\u001b[1;32m   1075\u001b[0m \u001b[0;34m\u001b[0m\u001b[0m\n\u001b[1;32m   1076\u001b[0m     \u001b[0;32mif\u001b[0m \u001b[0mto_raise\u001b[0m\u001b[0;34m:\u001b[0m\u001b[0;34m\u001b[0m\u001b[0;34m\u001b[0m\u001b[0m\n\u001b[0;32m-> 1077\u001b[0;31m         \u001b[0;32mraise\u001b[0m \u001b[0mOverflowError\u001b[0m\u001b[0;34m(\u001b[0m\u001b[0;34m\"Overflow in int64 addition\"\u001b[0m\u001b[0;34m)\u001b[0m\u001b[0;34m\u001b[0m\u001b[0;34m\u001b[0m\u001b[0m\n\u001b[0m\u001b[1;32m   1078\u001b[0m     \u001b[0;32mreturn\u001b[0m \u001b[0marr\u001b[0m \u001b[0;34m+\u001b[0m \u001b[0mb\u001b[0m\u001b[0;34m\u001b[0m\u001b[0;34m\u001b[0m\u001b[0m\n\u001b[1;32m   1079\u001b[0m \u001b[0;34m\u001b[0m\u001b[0m\n",
      "\u001b[0;31mOverflowError\u001b[0m: Overflow in int64 addition"
     ]
    }
   ],
   "source": [
    "a = pd.to_datetime(admission_df[admission_df.HADM_ID == 144319].ADMITTIME)\n",
    "print(a)\n",
    "sid = admission_df[admission_df.HADM_ID == 144319].SUBJECT_ID.values[0]\n",
    "print(sid)\n",
    "b = pd.to_datetime(patient_df[patient_df.SUBJECT_ID == sid].DOB.values[0])\n",
    "print(b.year)\n",
    "print((pd.to_datetime(t.CHARTTIME) - b))\n",
    "# t[\"AGE\"] = (pd.to_datetime(t.CHARTTIME) - b) / pd.Timedelta(1, \"D\")"
   ]
  },
  {
   "cell_type": "code",
   "execution_count": 311,
   "id": "behind-liverpool",
   "metadata": {
    "execution": {
     "iopub.execute_input": "2021-03-24T10:40:48.784429Z",
     "iopub.status.busy": "2021-03-24T10:40:48.784219Z",
     "iopub.status.idle": "2021-03-24T10:40:48.796067Z",
     "shell.execute_reply": "2021-03-24T10:40:48.795511Z",
     "shell.execute_reply.started": "2021-03-24T10:40:48.784406Z"
    },
    "tags": []
   },
   "outputs": [
    {
     "data": {
      "text/html": [
       "<div>\n",
       "<style scoped>\n",
       "    .dataframe tbody tr th:only-of-type {\n",
       "        vertical-align: middle;\n",
       "    }\n",
       "\n",
       "    .dataframe tbody tr th {\n",
       "        vertical-align: top;\n",
       "    }\n",
       "\n",
       "    .dataframe thead th {\n",
       "        text-align: right;\n",
       "    }\n",
       "</style>\n",
       "<table border=\"1\" class=\"dataframe\">\n",
       "  <thead>\n",
       "    <tr style=\"text-align: right;\">\n",
       "      <th></th>\n",
       "      <th>CHARTTIME</th>\n",
       "      <th>Creatinine</th>\n",
       "      <th>Glucose (serum)</th>\n",
       "      <th>RR</th>\n",
       "      <th>HR</th>\n",
       "      <th>SaO2</th>\n",
       "      <th>Magnesium</th>\n",
       "      <th>WBC</th>\n",
       "      <th>Hemoglobin</th>\n",
       "      <th>AGE</th>\n",
       "    </tr>\n",
       "  </thead>\n",
       "  <tbody>\n",
       "    <tr>\n",
       "      <th>0</th>\n",
       "      <td>2117-09-11 12:57:00</td>\n",
       "      <td>NaN</td>\n",
       "      <td>NaN</td>\n",
       "      <td>14.0</td>\n",
       "      <td>122.0</td>\n",
       "      <td>NaN</td>\n",
       "      <td>NaN</td>\n",
       "      <td>NaN</td>\n",
       "      <td>NaN</td>\n",
       "      <td>12839.539583</td>\n",
       "    </tr>\n",
       "    <tr>\n",
       "      <th>1</th>\n",
       "      <td>2117-09-11 13:00:00</td>\n",
       "      <td>NaN</td>\n",
       "      <td>NaN</td>\n",
       "      <td>22.0</td>\n",
       "      <td>118.0</td>\n",
       "      <td>NaN</td>\n",
       "      <td>NaN</td>\n",
       "      <td>NaN</td>\n",
       "      <td>NaN</td>\n",
       "      <td>12839.541667</td>\n",
       "    </tr>\n",
       "    <tr>\n",
       "      <th>2</th>\n",
       "      <td>2117-09-11 13:50:00</td>\n",
       "      <td>NaN</td>\n",
       "      <td>NaN</td>\n",
       "      <td>22.0</td>\n",
       "      <td>118.0</td>\n",
       "      <td>NaN</td>\n",
       "      <td>NaN</td>\n",
       "      <td>NaN</td>\n",
       "      <td>NaN</td>\n",
       "      <td>12839.576389</td>\n",
       "    </tr>\n",
       "    <tr>\n",
       "      <th>3</th>\n",
       "      <td>2117-09-11 14:00:00</td>\n",
       "      <td>NaN</td>\n",
       "      <td>NaN</td>\n",
       "      <td>15.0</td>\n",
       "      <td>118.0</td>\n",
       "      <td>NaN</td>\n",
       "      <td>NaN</td>\n",
       "      <td>NaN</td>\n",
       "      <td>NaN</td>\n",
       "      <td>12839.583333</td>\n",
       "    </tr>\n",
       "    <tr>\n",
       "      <th>4</th>\n",
       "      <td>2117-09-11 15:00:00</td>\n",
       "      <td>NaN</td>\n",
       "      <td>NaN</td>\n",
       "      <td>15.0</td>\n",
       "      <td>110.0</td>\n",
       "      <td>NaN</td>\n",
       "      <td>NaN</td>\n",
       "      <td>NaN</td>\n",
       "      <td>NaN</td>\n",
       "      <td>12839.625000</td>\n",
       "    </tr>\n",
       "  </tbody>\n",
       "</table>\n",
       "</div>"
      ],
      "text/plain": [
       "             CHARTTIME  Creatinine  Glucose (serum)    RR     HR  SaO2  \\\n",
       "0  2117-09-11 12:57:00         NaN              NaN  14.0  122.0   NaN   \n",
       "1  2117-09-11 13:00:00         NaN              NaN  22.0  118.0   NaN   \n",
       "2  2117-09-11 13:50:00         NaN              NaN  22.0  118.0   NaN   \n",
       "3  2117-09-11 14:00:00         NaN              NaN  15.0  118.0   NaN   \n",
       "4  2117-09-11 15:00:00         NaN              NaN  15.0  110.0   NaN   \n",
       "\n",
       "   Magnesium  WBC  Hemoglobin           AGE  \n",
       "0        NaN  NaN         NaN  12839.539583  \n",
       "1        NaN  NaN         NaN  12839.541667  \n",
       "2        NaN  NaN         NaN  12839.576389  \n",
       "3        NaN  NaN         NaN  12839.583333  \n",
       "4        NaN  NaN         NaN  12839.625000  "
      ]
     },
     "execution_count": 311,
     "metadata": {},
     "output_type": "execute_result"
    }
   ],
   "source": [
    "t.head()"
   ]
  },
  {
   "cell_type": "code",
   "execution_count": 339,
   "id": "enclosed-trunk",
   "metadata": {
    "execution": {
     "iopub.execute_input": "2021-03-24T11:58:19.278713Z",
     "iopub.status.busy": "2021-03-24T11:58:19.278484Z",
     "iopub.status.idle": "2021-03-24T11:58:21.820525Z",
     "shell.execute_reply": "2021-03-24T11:58:21.819755Z",
     "shell.execute_reply.started": "2021-03-24T11:58:19.278687Z"
    },
    "tags": []
   },
   "outputs": [
    {
     "name": "stdout",
     "output_type": "stream",
     "text": [
      "2659 46\n"
     ]
    }
   ],
   "source": [
    "cc1 = 0\n",
    "cc2 = 0\n",
    "for df in df_list:\n",
    "    if df.LABEL[0] == 1:\n",
    "        cc1 += 1\n",
    "    elif df.LABEL[0] == 2:\n",
    "        cc2 += 1\n",
    "print(cc1, cc2)"
   ]
  },
  {
   "cell_type": "code",
   "execution_count": 343,
   "id": "based-belize",
   "metadata": {
    "execution": {
     "iopub.execute_input": "2021-03-24T12:00:02.149276Z",
     "iopub.status.busy": "2021-03-24T12:00:02.149021Z",
     "iopub.status.idle": "2021-03-24T12:00:02.154125Z",
     "shell.execute_reply": "2021-03-24T12:00:02.153271Z",
     "shell.execute_reply.started": "2021-03-24T12:00:02.149246Z"
    },
    "tags": []
   },
   "outputs": [
    {
     "data": {
      "text/plain": [
       "187556"
      ]
     },
     "execution_count": 343,
     "metadata": {},
     "output_type": "execute_result"
    }
   ],
   "source": [
    "selected_admissionID_series.iloc[len(df_list)]"
   ]
  },
  {
   "cell_type": "code",
   "execution_count": 14,
   "id": "earned-beauty",
   "metadata": {
    "execution": {
     "iopub.execute_input": "2021-03-28T14:33:40.238850Z",
     "iopub.status.busy": "2021-03-28T14:33:40.238418Z",
     "iopub.status.idle": "2021-03-28T14:55:58.125172Z",
     "shell.execute_reply": "2021-03-28T14:55:58.124610Z",
     "shell.execute_reply.started": "2021-03-28T14:33:40.238817Z"
    },
    "tags": []
   },
   "outputs": [
    {
     "name": "stdout",
     "output_type": "stream",
     "text": [
      "0\n",
      "10000\n",
      "20000\n",
      "30000\n",
      "40000\n",
      "50000\n"
     ]
    }
   ],
   "source": [
    "df_list = []\n",
    "c = 0\n",
    "for admission_id in selected_admissionID_series:\n",
    "    #         print(admission_id)\n",
    "    try:\n",
    "        temp = (\n",
    "            g.get_group(admission_id)[[\"CHARTTIME\", \"ITEMID\", \"VALUENUM\"]]\n",
    "            .drop_duplicates()\n",
    "            .pivot(index=\"CHARTTIME\", columns=\"ITEMID\", values=\"VALUENUM\")\n",
    "        )\n",
    "    except ValueError:\n",
    "        continue\n",
    "    temp.columns = list(\n",
    "        map(\n",
    "            lambda x: str(x).replace(\n",
    "                str(x),\n",
    "                selected_itemids_df.LABEL[selected_itemids_df.ITEMID == x].iloc[0],\n",
    "            ),\n",
    "            temp.columns,\n",
    "        )\n",
    "    )\n",
    "    #     print(patientid)\n",
    "    temp.reset_index(inplace=True)\n",
    "    merge(temp)\n",
    "    # 加入静态的变量\n",
    "    # get SUBJECT_ID first\n",
    "    sub_id = admission_df[admission_df.HADM_ID == admission_id].SUBJECT_ID.values[0]\n",
    "    # gender\n",
    "    temp[\"GENDER\"] = patient_df[patient_df.SUBJECT_ID == sub_id].GENDER.values[0]\n",
    "    # age\n",
    "    dob = pd.to_datetime(patient_df[patient_df.SUBJECT_ID == sub_id].DOB.values[0])\n",
    "    # 小于1990年代表年龄大于等于90，一律按90岁算\n",
    "    if dob.year < 1990:\n",
    "        temp[\"AGE\"] = 32850\n",
    "    else:\n",
    "        temp[\"AGE\"] = (pd.to_datetime(temp.CHARTTIME) - dob) / pd.Timedelta(1, \"D\")\n",
    "    # ICULOS\n",
    "    doa = pd.to_datetime(\n",
    "        admission_df[admission_df.HADM_ID == admission_id].ADMITTIME.values[0]\n",
    "    )\n",
    "    temp[\"ICULOS\"] = (pd.to_datetime(temp.CHARTTIME) - doa) / pd.Timedelta(1, \"hour\")\n",
    "    # 加入结果标签\n",
    "    if (\n",
    "        diagnose_df[diagnose_df.HADM_ID == admission_id].ICD9_CODE == selected_ICD9[0]\n",
    "    ).sum() > 0:\n",
    "        temp[\"LABEL\"] = 1\n",
    "    elif (\n",
    "        diagnose_df[diagnose_df.HADM_ID == admission_id].ICD9_CODE == selected_ICD9[1]\n",
    "    ).sum() > 0:\n",
    "        temp[\"LABEL\"] = 2\n",
    "    else:\n",
    "        temp[\"LABEL\"] = 0\n",
    "    # 把处理好的每一个dataframe加入到df_list列表中\n",
    "    df_list.append(temp)\n",
    "    if c % 10000 == 0:\n",
    "        print(c)\n",
    "    c += 1\n",
    "#     sys.exit(1)"
   ]
  },
  {
   "cell_type": "code",
   "execution_count": 25,
   "id": "organic-eight",
   "metadata": {
    "execution": {
     "iopub.execute_input": "2021-03-28T15:25:41.451756Z",
     "iopub.status.busy": "2021-03-28T15:25:41.451520Z",
     "iopub.status.idle": "2021-03-28T15:25:47.116798Z",
     "shell.execute_reply": "2021-03-28T15:25:47.116273Z",
     "shell.execute_reply.started": "2021-03-28T15:25:41.451729Z"
    },
    "tags": []
   },
   "outputs": [
    {
     "data": {
      "text/plain": [
       "52785"
      ]
     },
     "execution_count": 25,
     "metadata": {},
     "output_type": "execute_result"
    }
   ],
   "source": [
    "len(list(filter(lambda x: x.LABEL[0] == 0, df_list)))\n",
    "len(df_list)"
   ]
  },
  {
   "cell_type": "code",
   "execution_count": 29,
   "id": "middle-rugby",
   "metadata": {
    "execution": {
     "iopub.execute_input": "2021-03-28T15:46:24.718183Z",
     "iopub.status.busy": "2021-03-28T15:46:24.717955Z",
     "iopub.status.idle": "2021-03-28T15:46:24.801311Z",
     "shell.execute_reply": "2021-03-28T15:46:24.800520Z",
     "shell.execute_reply.started": "2021-03-28T15:46:24.718155Z"
    },
    "tags": []
   },
   "outputs": [
    {
     "data": {
      "image/png": "[encoded data removed]",
      "text/plain": [
       "<Figure size 432x288 with 1 Axes>"
      ]
     },
     "metadata": {},
     "output_type": "display_data"
    }
   ],
   "source": [
    "labels = [\"healthy\", \"sepsis\"]\n",
    "sizes = [52785, 4099]\n",
    "colors = [\"tab:blue\", \"tab:orange\"]\n",
    "plt.pie(sizes, labels=labels, colors=colors, autopct=\"%3.2f%%\", shadow=False)\n",
    "plt.axis(\"equal\")\n",
    "plt.savefig(\"ratio_of_MIMIC.png\")"
   ]
  },
  {
   "cell_type": "code",
   "execution_count": null,
   "id": "introductory-communications",
   "metadata": {
    "tags": []
   },
   "outputs": [],
   "source": [
    "selected_admissions_df = admission_df[\n",
    "    admission_df.SUBJECT_ID.isin(selected_patientid_series)\n",
    "][[\"SUBJECT_ID\", \"ADMITTIME\"]]"
   ]
  },
  {
   "cell_type": "code",
   "execution_count": null,
   "id": "mounted-nursery",
   "metadata": {},
   "outputs": [],
   "source": [
    "selected_patients_df = patient_df[\n",
    "    patient_df.SUBJECT_ID.isin(selected_patientid_series)\n",
    "][\"SUBJECT_ID\", \"GENDER\", \"DOB\"]"
   ]
  },
  {
   "cell_type": "code",
   "execution_count": null,
   "id": "sensitive-globe",
   "metadata": {
    "tags": []
   },
   "outputs": [],
   "source": []
  },
  {
   "cell_type": "code",
   "execution_count": 44,
   "id": "latter-reducing",
   "metadata": {
    "execution": {
     "iopub.execute_input": "2021-03-28T03:44:56.390726Z",
     "iopub.status.busy": "2021-03-28T03:44:56.390513Z",
     "iopub.status.idle": "2021-03-28T03:44:56.803132Z",
     "shell.execute_reply": "2021-03-28T03:44:56.802479Z",
     "shell.execute_reply.started": "2021-03-28T03:44:56.390702Z"
    },
    "tags": []
   },
   "outputs": [],
   "source": [
    "# 检查还有没有重复的columns\n",
    "for df in df_list:\n",
    "    if df.columns.has_duplicates:\n",
    "        print(df.columns)\n",
    "        break"
   ]
  },
  {
   "cell_type": "code",
   "execution_count": 15,
   "id": "proved-vampire",
   "metadata": {
    "execution": {
     "iopub.execute_input": "2021-03-28T14:55:58.128794Z",
     "iopub.status.busy": "2021-03-28T14:55:58.128639Z",
     "iopub.status.idle": "2021-03-28T14:58:01.754952Z",
     "shell.execute_reply": "2021-03-28T14:58:01.753930Z",
     "shell.execute_reply.started": "2021-03-28T14:55:58.128776Z"
    },
    "tags": []
   },
   "outputs": [],
   "source": [
    "# 求方差，correlation，和tree-based feature selection\n",
    "merged_df = pd.concat(df_list, ignore_index=True, axis=0)"
   ]
  },
  {
   "cell_type": "code",
   "execution_count": 16,
   "id": "common-jacksonville",
   "metadata": {
    "execution": {
     "iopub.execute_input": "2021-03-28T14:58:01.757056Z",
     "iopub.status.busy": "2021-03-28T14:58:01.756836Z",
     "iopub.status.idle": "2021-03-28T14:58:17.833986Z",
     "shell.execute_reply": "2021-03-28T14:58:17.833075Z",
     "shell.execute_reply.started": "2021-03-28T14:58:01.757028Z"
    },
    "tags": []
   },
   "outputs": [],
   "source": [
    "# scale first\n",
    "scaler = MinMaxScaler()\n",
    "scaled_df = pd.DataFrame(\n",
    "    scaler.fit_transform(\n",
    "        merged_df[merged_df.columns.difference([\"CHARTTIME\", \"GENDER\"])]\n",
    "    ),\n",
    "    columns=merged_df.columns.drop([\"CHARTTIME\", \"GENDER\"]),\n",
    ")"
   ]
  },
  {
   "cell_type": "code",
   "execution_count": 17,
   "id": "secret-empire",
   "metadata": {
    "execution": {
     "iopub.execute_input": "2021-03-28T14:58:17.835775Z",
     "iopub.status.busy": "2021-03-28T14:58:17.835477Z",
     "iopub.status.idle": "2021-03-28T14:58:24.383855Z",
     "shell.execute_reply": "2021-03-28T14:58:24.383068Z",
     "shell.execute_reply.started": "2021-03-28T14:58:17.835747Z"
    },
    "tags": []
   },
   "outputs": [],
   "source": [
    "v = scaled_df.var()"
   ]
  },
  {
   "cell_type": "code",
   "execution_count": null,
   "id": "informative-programmer",
   "metadata": {
    "tags": []
   },
   "outputs": [],
   "source": []
  },
  {
   "cell_type": "code",
   "execution_count": 22,
   "id": "exact-darkness",
   "metadata": {
    "execution": {
     "iopub.execute_input": "2021-03-28T15:06:29.205438Z",
     "iopub.status.busy": "2021-03-28T15:06:29.205204Z",
     "iopub.status.idle": "2021-03-28T15:06:29.718622Z",
     "shell.execute_reply": "2021-03-28T15:06:29.718045Z",
     "shell.execute_reply.started": "2021-03-28T15:06:29.205411Z"
    },
    "tags": []
   },
   "outputs": [
    {
     "data": {
      "image/png": "[encoded data removed]",
      "text/plain": [
       "<Figure size 1440x864 with 1 Axes>"
      ]
     },
     "metadata": {
      "needs_background": "light"
     },
     "output_type": "display_data"
    }
   ],
   "source": [
    "# variance threshold\n",
    "# v = v.drop([\"LABEL\"])\n",
    "plt.figure(figsize=(20, 12))\n",
    "plt.bar(v.sort_values(ascending=False).index, v.sort_values(ascending=False))\n",
    "plt.xticks(rotation=60)\n",
    "plt.savefig(\"variance_MIMIC_data.png\")\n",
    "plt.show()"
   ]
  },
  {
   "cell_type": "code",
   "execution_count": 19,
   "id": "backed-mission",
   "metadata": {
    "execution": {
     "iopub.execute_input": "2021-03-28T14:58:24.958280Z",
     "iopub.status.busy": "2021-03-28T14:58:24.958094Z",
     "iopub.status.idle": "2021-03-28T14:58:26.383790Z",
     "shell.execute_reply": "2021-03-28T14:58:26.382859Z",
     "shell.execute_reply.started": "2021-03-28T14:58:24.958256Z"
    },
    "tags": []
   },
   "outputs": [],
   "source": [
    "missing_ratio = (1 - merged_df.isna().sum() / merged_df.shape[0]).sort_values()"
   ]
  },
  {
   "cell_type": "code",
   "execution_count": null,
   "id": "considered-sucking",
   "metadata": {
    "tags": []
   },
   "outputs": [],
   "source": []
  },
  {
   "cell_type": "code",
   "execution_count": 23,
   "id": "binary-press",
   "metadata": {
    "execution": {
     "iopub.execute_input": "2021-03-28T15:07:16.001706Z",
     "iopub.status.busy": "2021-03-28T15:07:16.001466Z",
     "iopub.status.idle": "2021-03-28T15:07:16.542507Z",
     "shell.execute_reply": "2021-03-28T15:07:16.541843Z",
     "shell.execute_reply.started": "2021-03-28T15:07:16.001679Z"
    },
    "tags": []
   },
   "outputs": [
    {
     "data": {
      "image/png": "[encoded data removed]",
      "text/plain": [
       "<Figure size 1440x864 with 1 Axes>"
      ]
     },
     "metadata": {
      "needs_background": "light"
     },
     "output_type": "display_data"
    }
   ],
   "source": [
    "import matplotlib.pyplot as plt\n",
    "\n",
    "missing_ratio = missing_ratio.drop(columns=[\"LABEL\"])\n",
    "plt.figure(figsize=(20, 12))\n",
    "plt.bar(missing_ratio.sort_values().index, missing_ratio.sort_values())\n",
    "plt.xticks(rotation=90)\n",
    "plt.grid()\n",
    "plt.ylabel(\"presence ratio\")\n",
    "plt.xlabel(\"features\")\n",
    "plt.savefig(\"presence_ratio_MIMIC.png\")\n",
    "plt.show()"
   ]
  },
  {
   "cell_type": "code",
   "execution_count": 77,
   "id": "sapphire-pricing",
   "metadata": {
    "execution": {
     "iopub.execute_input": "2021-03-29T15:22:02.251748Z",
     "iopub.status.busy": "2021-03-29T15:22:02.251485Z",
     "iopub.status.idle": "2021-03-29T15:22:18.505750Z",
     "shell.execute_reply": "2021-03-29T15:22:18.505042Z",
     "shell.execute_reply.started": "2021-03-29T15:22:02.251720Z"
    },
    "tags": []
   },
   "outputs": [],
   "source": [
    "# pearson correlation coefficeint\n",
    "kept_features = [\"AGE\", \"ICULOS\", \"Heart Rate\", \"RR\", \"SaO2\", \"ABP-S\", \"ABP-D\", \"ABP-M\"]\n",
    "ppc_matrix = pd.DataFrame(\n",
    "    np.zeros([len(kept_features), len(kept_features)]),\n",
    "    index=kept_features,\n",
    "    columns=kept_features,\n",
    ")\n",
    "pvalue_matrix = pd.DataFrame(\n",
    "    np.zeros([len(kept_features), len(kept_features)]),\n",
    "    index=kept_features,\n",
    "    columns=kept_features,\n",
    ")\n",
    "for i in range(len(kept_features)):\n",
    "    for j in range(len(kept_features)):\n",
    "        pair = merged_df[[kept_features[i], kept_features[j]]].dropna()\n",
    "        #         print(pair[kept_features[i]])\n",
    "        ppc = pearsonr(pair.iloc[:, 0].values, pair.iloc[:, 1].values)\n",
    "        ppc_matrix.iloc[i][j] = ppc[0]\n",
    "        pvalue_matrix.iloc[i][j] = ppc[1]"
   ]
  },
  {
   "cell_type": "code",
   "execution_count": 80,
   "id": "prerequisite-tooth",
   "metadata": {
    "execution": {
     "iopub.execute_input": "2021-03-29T17:13:27.869662Z",
     "iopub.status.busy": "2021-03-29T17:13:27.868053Z",
     "iopub.status.idle": "2021-03-29T17:13:27.926031Z",
     "shell.execute_reply": "2021-03-29T17:13:27.924482Z",
     "shell.execute_reply.started": "2021-03-29T17:13:27.869565Z"
    },
    "tags": []
   },
   "outputs": [],
   "source": [
    "ppc_matrix.round(decimals=4).to_csv(\"ppc_matrix_MIMIC.csv\")\n",
    "pvalue_matrix.round(decimals=4).to_csv(\"pvalue_matrix_MIMIC.csv\")"
   ]
  },
  {
   "cell_type": "code",
   "execution_count": 83,
   "id": "constant-wings",
   "metadata": {
    "execution": {
     "iopub.execute_input": "2021-03-29T20:28:28.894106Z",
     "iopub.status.busy": "2021-03-29T20:28:28.893899Z",
     "iopub.status.idle": "2021-03-29T21:03:23.059617Z",
     "shell.execute_reply": "2021-03-29T21:03:23.053799Z",
     "shell.execute_reply.started": "2021-03-29T20:28:28.894061Z"
    },
    "tags": []
   },
   "outputs": [],
   "source": [
    "# Distance correlation coefficient\n",
    "dcc_matrix = pd.DataFrame(\n",
    "    np.zeros([len(kept_features), len(kept_features)]),\n",
    "    index=kept_features,\n",
    "    columns=kept_features,\n",
    ")\n",
    "for i in range(len(kept_features)):\n",
    "    for j in range(len(kept_features)):\n",
    "        pair = merged_df[[kept_features[i], kept_features[j]]].dropna()\n",
    "        #         print(pair[kept_features[i]])\n",
    "        dcc = dcor.distance_correlation(pair.iloc[:, 0].values, pair.iloc[:, 1].values)\n",
    "        dcc_matrix.iloc[i][j] = dcc"
   ]
  },
  {
   "cell_type": "code",
   "execution_count": 84,
   "id": "exotic-challenge",
   "metadata": {
    "execution": {
     "iopub.execute_input": "2021-03-29T21:03:23.636083Z",
     "iopub.status.busy": "2021-03-29T21:03:23.635817Z",
     "iopub.status.idle": "2021-03-29T21:03:23.683932Z",
     "shell.execute_reply": "2021-03-29T21:03:23.683181Z",
     "shell.execute_reply.started": "2021-03-29T21:03:23.636048Z"
    },
    "tags": []
   },
   "outputs": [
    {
     "data": {
      "text/html": [
       "<div>\n",
       "<style scoped>\n",
       "    .dataframe tbody tr th:only-of-type {\n",
       "        vertical-align: middle;\n",
       "    }\n",
       "\n",
       "    .dataframe tbody tr th {\n",
       "        vertical-align: top;\n",
       "    }\n",
       "\n",
       "    .dataframe thead th {\n",
       "        text-align: right;\n",
       "    }\n",
       "</style>\n",
       "<table border=\"1\" class=\"dataframe\">\n",
       "  <thead>\n",
       "    <tr style=\"text-align: right;\">\n",
       "      <th></th>\n",
       "      <th>AGE</th>\n",
       "      <th>ICULOS</th>\n",
       "      <th>Heart Rate</th>\n",
       "      <th>RR</th>\n",
       "      <th>SaO2</th>\n",
       "      <th>ABP-S</th>\n",
       "      <th>ABP-D</th>\n",
       "      <th>ABP-M</th>\n",
       "    </tr>\n",
       "  </thead>\n",
       "  <tbody>\n",
       "    <tr>\n",
       "      <th>AGE</th>\n",
       "      <td>1.000000</td>\n",
       "      <td>0.326051</td>\n",
       "      <td>0.792411</td>\n",
       "      <td>0.042452</td>\n",
       "      <td>0.016688</td>\n",
       "      <td>0.022818</td>\n",
       "      <td>0.295908</td>\n",
       "      <td>0.156372</td>\n",
       "    </tr>\n",
       "    <tr>\n",
       "      <th>ICULOS</th>\n",
       "      <td>0.326051</td>\n",
       "      <td>1.000000</td>\n",
       "      <td>0.373860</td>\n",
       "      <td>0.151258</td>\n",
       "      <td>0.022605</td>\n",
       "      <td>0.048901</td>\n",
       "      <td>0.036819</td>\n",
       "      <td>0.035109</td>\n",
       "    </tr>\n",
       "    <tr>\n",
       "      <th>Heart Rate</th>\n",
       "      <td>0.792411</td>\n",
       "      <td>0.373860</td>\n",
       "      <td>1.000000</td>\n",
       "      <td>0.242529</td>\n",
       "      <td>0.050542</td>\n",
       "      <td>0.066834</td>\n",
       "      <td>0.196687</td>\n",
       "      <td>0.088735</td>\n",
       "    </tr>\n",
       "    <tr>\n",
       "      <th>RR</th>\n",
       "      <td>0.042452</td>\n",
       "      <td>0.151258</td>\n",
       "      <td>0.242529</td>\n",
       "      <td>1.000000</td>\n",
       "      <td>0.059998</td>\n",
       "      <td>0.057291</td>\n",
       "      <td>0.055631</td>\n",
       "      <td>0.059011</td>\n",
       "    </tr>\n",
       "    <tr>\n",
       "      <th>SaO2</th>\n",
       "      <td>0.016688</td>\n",
       "      <td>0.022605</td>\n",
       "      <td>0.050542</td>\n",
       "      <td>0.059998</td>\n",
       "      <td>1.000000</td>\n",
       "      <td>0.034657</td>\n",
       "      <td>0.020137</td>\n",
       "      <td>0.037867</td>\n",
       "    </tr>\n",
       "    <tr>\n",
       "      <th>ABP-S</th>\n",
       "      <td>0.022818</td>\n",
       "      <td>0.048901</td>\n",
       "      <td>0.066834</td>\n",
       "      <td>0.057291</td>\n",
       "      <td>0.034657</td>\n",
       "      <td>1.000000</td>\n",
       "      <td>0.540051</td>\n",
       "      <td>0.785613</td>\n",
       "    </tr>\n",
       "    <tr>\n",
       "      <th>ABP-D</th>\n",
       "      <td>0.295908</td>\n",
       "      <td>0.036819</td>\n",
       "      <td>0.196687</td>\n",
       "      <td>0.055631</td>\n",
       "      <td>0.020137</td>\n",
       "      <td>0.540051</td>\n",
       "      <td>1.000000</td>\n",
       "      <td>0.871209</td>\n",
       "    </tr>\n",
       "    <tr>\n",
       "      <th>ABP-M</th>\n",
       "      <td>0.156372</td>\n",
       "      <td>0.035109</td>\n",
       "      <td>0.088735</td>\n",
       "      <td>0.059011</td>\n",
       "      <td>0.037867</td>\n",
       "      <td>0.785613</td>\n",
       "      <td>0.871209</td>\n",
       "      <td>1.000000</td>\n",
       "    </tr>\n",
       "  </tbody>\n",
       "</table>\n",
       "</div>"
      ],
      "text/plain": [
       "                 AGE    ICULOS  Heart Rate        RR      SaO2     ABP-S  \\\n",
       "AGE         1.000000  0.326051    0.792411  0.042452  0.016688  0.022818   \n",
       "ICULOS      0.326051  1.000000    0.373860  0.151258  0.022605  0.048901   \n",
       "Heart Rate  0.792411  0.373860    1.000000  0.242529  0.050542  0.066834   \n",
       "RR          0.042452  0.151258    0.242529  1.000000  0.059998  0.057291   \n",
       "SaO2        0.016688  0.022605    0.050542  0.059998  1.000000  0.034657   \n",
       "ABP-S       0.022818  0.048901    0.066834  0.057291  0.034657  1.000000   \n",
       "ABP-D       0.295908  0.036819    0.196687  0.055631  0.020137  0.540051   \n",
       "ABP-M       0.156372  0.035109    0.088735  0.059011  0.037867  0.785613   \n",
       "\n",
       "               ABP-D     ABP-M  \n",
       "AGE         0.295908  0.156372  \n",
       "ICULOS      0.036819  0.035109  \n",
       "Heart Rate  0.196687  0.088735  \n",
       "RR          0.055631  0.059011  \n",
       "SaO2        0.020137  0.037867  \n",
       "ABP-S       0.540051  0.785613  \n",
       "ABP-D       1.000000  0.871209  \n",
       "ABP-M       0.871209  1.000000  "
      ]
     },
     "execution_count": 84,
     "metadata": {},
     "output_type": "execute_result"
    }
   ],
   "source": [
    "dcc_matrix"
   ]
  },
  {
   "cell_type": "code",
   "execution_count": 86,
   "id": "fifty-hypothetical",
   "metadata": {
    "execution": {
     "iopub.execute_input": "2021-03-30T03:17:50.322793Z",
     "iopub.status.busy": "2021-03-30T03:17:50.322582Z",
     "iopub.status.idle": "2021-03-30T03:17:50.353274Z",
     "shell.execute_reply": "2021-03-30T03:17:50.351454Z",
     "shell.execute_reply.started": "2021-03-30T03:17:50.322768Z"
    },
    "tags": []
   },
   "outputs": [],
   "source": [
    "dcc_matrix.round(decimals=4).to_csv(\"dcc_mimic.csv\")"
   ]
  },
  {
   "cell_type": "code",
   "execution_count": 106,
   "id": "automotive-possible",
   "metadata": {
    "execution": {
     "iopub.execute_input": "2021-03-30T09:44:50.342334Z",
     "iopub.status.busy": "2021-03-30T09:44:50.342136Z",
     "iopub.status.idle": "2021-03-30T09:45:03.545477Z",
     "shell.execute_reply": "2021-03-30T09:45:03.544676Z",
     "shell.execute_reply.started": "2021-03-30T09:44:50.342311Z"
    },
    "tags": []
   },
   "outputs": [
    {
     "name": "stderr",
     "output_type": "stream",
     "text": [
      "/Users/yifeihu/opt/anaconda3/envs/dev/lib/python3.7/site-packages/ipykernel_launcher.py:6: SettingWithCopyWarning: \n",
      "A value is trying to be set on a copy of a slice from a DataFrame\n",
      "\n",
      "See the caveats in the documentation: https://pandas.pydata.org/pandas-docs/stable/user_guide/indexing.html#returning-a-view-versus-a-copy\n",
      "  \n",
      "/Users/yifeihu/opt/anaconda3/envs/dev/lib/python3.7/site-packages/ipykernel_launcher.py:7: SettingWithCopyWarning: \n",
      "A value is trying to be set on a copy of a slice from a DataFrame\n",
      "\n",
      "See the caveats in the documentation: https://pandas.pydata.org/pandas-docs/stable/user_guide/indexing.html#returning-a-view-versus-a-copy\n",
      "  import sys\n"
     ]
    }
   ],
   "source": [
    "# tree-based feature selection\n",
    "\n",
    "df_normal = merged_df[merged_df.LABEL == 0].drop(columns=[\"GENDER\", \"CHARTTIME\"])\n",
    "df_sepsis = merged_df[merged_df.LABEL != 0].drop(columns=[\"GENDER\", \"CHARTTIME\"])\n",
    "\n",
    "df_normal.LABEL[df_normal.LABEL > 0] = 1\n",
    "df_sepsis.LABEL[df_sepsis.LABEL > 0] = 1\n",
    "\n",
    "sample_index = random.sample(range(len(df_normal)), len(df_sepsis))\n",
    "df_normal = df_normal.iloc[sample_index, :]\n",
    "\n",
    "\n",
    "# Create test set\n",
    "X_train, X_test, y_train, y_test = train_test_split(\n",
    "    pd.concat(\n",
    "        [df_normal.drop(columns=\"LABEL\"), df_sepsis.drop(columns=\"LABEL\")], axis=0,\n",
    "    ),\n",
    "    pd.concat([df_normal[\"LABEL\"], df_sepsis[\"LABEL\"]], axis=0,),\n",
    "    test_size=0.2,\n",
    ")\n",
    "\n",
    "# Create training set and validation set\n",
    "# the ratio is training:validation:test = 6:2:2\n",
    "X_train, X_val, y_train, y_val = train_test_split(X_train, y_train, test_size=0.25)"
   ]
  },
  {
   "cell_type": "code",
   "execution_count": 105,
   "id": "parallel-grace",
   "metadata": {
    "execution": {
     "iopub.execute_input": "2021-03-30T09:28:35.139005Z",
     "iopub.status.busy": "2021-03-30T09:28:35.138767Z",
     "iopub.status.idle": "2021-03-30T09:28:35.144727Z",
     "shell.execute_reply": "2021-03-30T09:28:35.143813Z",
     "shell.execute_reply.started": "2021-03-30T09:28:35.138977Z"
    },
    "tags": []
   },
   "outputs": [
    {
     "name": "stdout",
     "output_type": "stream",
     "text": [
      "(1928244, 35) (1928244,)\n",
      "(642749, 35) (642749,)\n",
      "(642749, 35) (642749,)\n"
     ]
    }
   ],
   "source": [
    "print(X_train.shape, y_train.shape)\n",
    "print(X_val.shape, y_val.shape)\n",
    "print(X_test.shape, y_test.shape)"
   ]
  },
  {
   "cell_type": "code",
   "execution_count": 107,
   "id": "cellular-quantity",
   "metadata": {
    "execution": {
     "iopub.execute_input": "2021-03-30T09:45:36.036013Z",
     "iopub.status.busy": "2021-03-30T09:45:36.035814Z",
     "iopub.status.idle": "2021-03-30T09:53:09.850521Z",
     "shell.execute_reply": "2021-03-30T09:53:09.849847Z",
     "shell.execute_reply.started": "2021-03-30T09:45:36.035993Z"
    },
    "tags": []
   },
   "outputs": [
    {
     "name": "stderr",
     "output_type": "stream",
     "text": [
      "/Users/yifeihu/opt/anaconda3/envs/dev/lib/python3.7/site-packages/xgboost/sklearn.py:888: UserWarning: The use of label encoder in XGBClassifier is deprecated and will be removed in a future release. To remove this warning, do the following: 1) Pass option use_label_encoder=False when constructing XGBClassifier object; and 2) Encode your labels (y) as integers starting with 0, i.e. 0, 1, 2, ..., [num_class - 1].\n",
      "  warnings.warn(label_encoder_deprecation_msg, UserWarning)\n"
     ]
    },
    {
     "name": "stdout",
     "output_type": "stream",
     "text": [
      "[20:45:37] WARNING: /Users/travis/build/dmlc/xgboost/src/learner.cc:541: \n",
      "Parameters: { early_stopping_rounds, silent } might not be used.\n",
      "\n",
      "  This may not be accurate due to some parameters are only used in language bindings but\n",
      "  passed down to XGBoost core.  Or some parameters are not used but slip through this\n",
      "  verification. Please open an issue if you find above cases.\n",
      "\n",
      "\n",
      "Accuracy (train): 0.7976\n",
      "AUC (train): 0.797625\n",
      "Accuracy (test): 0.7875\n",
      "AUC (test): 0.787440\n"
     ]
    }
   ],
   "source": [
    "# convert to DMatrix format used in xgboost\n",
    "dtrain = xgb.DMatrix(X_train, label=y_train, silent=True)\n",
    "dtest = xgb.DMatrix(X_test, label=y_test, silent=True)\n",
    "\n",
    "# set initial training parameters\n",
    "num_round = 500\n",
    "cv_folds = 5\n",
    "early_stopping_rounds = 50\n",
    "\n",
    "# the switch to control whether we do cross validation to determine the best value of parameter \"n_estimators\"\n",
    "# if you set it to True please change the value of \"num_round\" above to a lager number e.g. 10000\n",
    "isCV = False\n",
    "\n",
    "# if your computer does not support CUDA, please remove the parameter \"tree_method\" and \"gpu_id\"\n",
    "clf = xgb.XGBClassifier(\n",
    "    n_estimators=num_round,\n",
    "    learning_rate=0.3,\n",
    "    subsample=0.8,\n",
    "    early_stopping_rounds=early_stopping_rounds,\n",
    "    #     tree_method=\"gpu_hist\",\n",
    "    gamma=0.2,\n",
    "    #     gpu_id=0,\n",
    "    seed=0,\n",
    "    nthread=4,\n",
    "    silent=False,\n",
    ")\n",
    "\n",
    "if isCV:\n",
    "    params = clf.get_params()\n",
    "    cv_result = xgb.cv(\n",
    "        params=params,\n",
    "        dtrain=dtrain,\n",
    "        num_boost_round=clf.get_params()[\"n_estimators\"],\n",
    "        nfold=cv_folds,\n",
    "        metrics=\"auc\",\n",
    "        early_stopping_rounds=50,\n",
    "        verbose_eval=100,\n",
    "    )\n",
    "    clf.set_params(n_estimators=cv_result.shape[0])\n",
    "\n",
    "clf.fit(\n",
    "    X=X_train,\n",
    "    y=y_train,\n",
    "    eval_set=[(X_val, y_val)],\n",
    "    eval_metric=[\"auc\", \"error\"],\n",
    "    verbose=False,\n",
    ")\n",
    "\n",
    "# prediction with training set\n",
    "train_preds_prob = clf.predict(X_train)\n",
    "train_preds = [round(value) for value in train_preds_prob]\n",
    "print(\"Accuracy (train): %.4g\" % metrics.accuracy_score(y_train, train_preds))\n",
    "print(\"AUC (train): %f\" % metrics.roc_auc_score(y_train, train_preds_prob))\n",
    "\n",
    "# prediction with test set\n",
    "test_preds_prob = clf.predict(X_test)\n",
    "test_preds = [round(value) for value in test_preds_prob]\n",
    "print(\"Accuracy (test): %.4g\" % metrics.accuracy_score(y_test, test_preds))\n",
    "print(\"AUC (test): %f\" % metrics.roc_auc_score(y_test, test_preds_prob))"
   ]
  },
  {
   "cell_type": "code",
   "execution_count": 109,
   "id": "secure-atlanta",
   "metadata": {
    "execution": {
     "iopub.execute_input": "2021-03-30T10:23:39.486526Z",
     "iopub.status.busy": "2021-03-30T10:23:39.486287Z",
     "iopub.status.idle": "2021-03-30T10:23:40.347445Z",
     "shell.execute_reply": "2021-03-30T10:23:40.346919Z",
     "shell.execute_reply.started": "2021-03-30T10:23:39.486496Z"
    },
    "tags": []
   },
   "outputs": [
    {
     "data": {
      "image/png": "[encoded data removed]",
      "text/plain": [
       "<Figure size 1440x864 with 1 Axes>"
      ]
     },
     "metadata": {
      "needs_background": "light"
     },
     "output_type": "display_data"
    }
   ],
   "source": [
    "# print out feature importance\n",
    "feat_imp = pd.Series(clf.get_booster().get_fscore()).sort_values(ascending=False)\n",
    "plt.figure(figsize=(20, 12))\n",
    "plt.bar(feat_imp.index, feat_imp)\n",
    "plt.xticks(rotation=90)\n",
    "plt.ylabel(\"Feature Importance Score\")\n",
    "plt.savefig(\"feature_importance_xgboost_mimic.png\")"
   ]
  },
  {
   "cell_type": "code",
   "execution_count": null,
   "id": "every-train",
   "metadata": {},
   "outputs": [],
   "source": []
  }
 ],
 "metadata": {
  "kernelspec": {
   "display_name": "Python 3",
   "language": "python",
   "name": "python3"
  },
  "language_info": {
   "codemirror_mode": {
    "name": "ipython",
    "version": 3
   },
   "file_extension": ".py",
   "mimetype": "text/x-python",
   "name": "python",
   "nbconvert_exporter": "python",
   "pygments_lexer": "ipython3",
   "version": "3.9.4"
  }
 },
 "nbformat": 4,
 "nbformat_minor": 5
}
