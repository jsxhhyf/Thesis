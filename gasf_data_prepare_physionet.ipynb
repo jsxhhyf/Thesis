{
 "cells": [
  {
   "cell_type": "code",
   "execution_count": 1,
   "id": "framed-religion",
   "metadata": {
    "tags": []
   },
   "outputs": [],
   "source": [
    "import os, sys, random, datetime, json\n",
    "\n",
    "from pyts.image import GramianAngularField\n",
    "\n",
    "import numpy as np\n",
    "import pandas as pd\n",
    "\n",
    "import matplotlib.pyplot as plt"
   ]
  },
  {
   "cell_type": "code",
   "execution_count": 2,
   "id": "9ee59d66-cccb-43f7-896a-b665599439ca",
   "metadata": {},
   "outputs": [],
   "source": [
    "rootDir = \"/Users/phillip/Documents/PhD/PhD3/Data/PhysioNet/dataset\"\n",
    "df_list = []\n",
    "\n",
    "files = os.listdir(rootDir)\n",
    "for file in files:\n",
    "    df_list.append(pd.read_csv(os.path.join(rootDir, file), sep=\"|\", header=0))"
   ]
  },
  {
   "cell_type": "code",
   "execution_count": 3,
   "id": "forced-drama",
   "metadata": {
    "tags": []
   },
   "outputs": [],
   "source": [
    "# 计算所有数据的平均值填充\n",
    "# cell001_1\n",
    "s = np.zeros(40).tolist()\n",
    "c = np.zeros(40).tolist()\n",
    "\n",
    "for e in df_list:\n",
    "    s = s + e.sum()[:-1]\n",
    "    c = c + e.count()[:-1]\n",
    "\n",
    "a = s.div(c)\n",
    "\n",
    "# 当不能用线性填充时,填充最近的,再不行用平均值填充\n",
    "# cell001_2\n",
    "threshold = 0  # the healthy-sepsis ratio threshold\n",
    "data = []\n",
    "i = 0\n",
    "for e in df_list:\n",
    "    # t = e.iloc[:, -1][e.iloc[:, -1] == 1].sum()\n",
    "    # l = len(e)\n",
    "    # if t / l > threshold:\n",
    "    e.interpolate(inplace=True, limit_direction=\"both\")\n",
    "    e.interpolate(inplace=True, method=\"nearest\")\n",
    "    na_cols = e.columns[e.isna().any()]\n",
    "    for col in na_cols:\n",
    "        e.loc[e[col].isnull(), col] = a[col]\n",
    "    data.append(e)"
   ]
  },
  {
   "cell_type": "code",
   "execution_count": 9,
   "id": "flying-drawing",
   "metadata": {
    "tags": []
   },
   "outputs": [],
   "source": [
    "IMAGESIZE = 32\n",
    "WINDOWSIZE = IMAGESIZE"
   ]
  },
  {
   "cell_type": "code",
   "execution_count": 10,
   "id": "081c0d4c-f96e-470d-aa4b-f620d9be40b0",
   "metadata": {},
   "outputs": [],
   "source": [
    "infectedData_arr = []\n",
    "normalData_arr = []\n",
    "\n",
    "for i in range(len(data)):\n",
    "    for j in range(0, len(data[i]) - WINDOWSIZE, 30):\n",
    "        block = data[i].iloc[j : j + WINDOWSIZE, :-1].values\n",
    "        if (data[i].SepsisLabel > 0).any():\n",
    "            infectedData_arr.append(block)\n",
    "        else:\n",
    "            normalData_arr.append(block)\n",
    "\n",
    "np.save(\n",
    "    \"normal_gramian_physionet_{}_{}.npy\".format(IMAGESIZE, 40), np.array(normalData_arr)\n",
    ")\n",
    "np.save(\n",
    "    \"sepsis_gramian_physionet_{}_{}.npy\".format(IMAGESIZE, 40),\n",
    "    np.array(infectedData_arr),\n",
    ")"
   ]
  },
  {
   "cell_type": "code",
   "execution_count": null,
   "id": "39a6fcde-9af9-4802-8a36-ba422439ff47",
   "metadata": {},
   "outputs": [],
   "source": []
  },
  {
   "cell_type": "code",
   "execution_count": null,
   "id": "a1a1464d-64b1-406d-90b9-36867eebcd85",
   "metadata": {},
   "outputs": [],
   "source": []
  },
  {
   "cell_type": "code",
   "execution_count": null,
   "id": "88a33ae4-cc45-4ded-a442-5577820767ae",
   "metadata": {},
   "outputs": [],
   "source": []
  },
  {
   "cell_type": "code",
   "execution_count": null,
   "id": "juvenile-twist",
   "metadata": {
    "tags": []
   },
   "outputs": [],
   "source": []
  },
  {
   "cell_type": "code",
   "execution_count": null,
   "id": "digital-valuation",
   "metadata": {
    "tags": []
   },
   "outputs": [],
   "source": []
  },
  {
   "cell_type": "code",
   "execution_count": null,
   "id": "senior-slide",
   "metadata": {
    "tags": []
   },
   "outputs": [],
   "source": []
  },
  {
   "cell_type": "code",
   "execution_count": null,
   "id": "acoustic-eagle",
   "metadata": {
    "tags": []
   },
   "outputs": [],
   "source": []
  },
  {
   "cell_type": "code",
   "execution_count": null,
   "id": "renewable-gates",
   "metadata": {
    "tags": []
   },
   "outputs": [],
   "source": []
  },
  {
   "cell_type": "code",
   "execution_count": null,
   "id": "fallen-cancer",
   "metadata": {},
   "outputs": [],
   "source": []
  },
  {
   "cell_type": "code",
   "execution_count": null,
   "id": "bridal-doctor",
   "metadata": {
    "tags": []
   },
   "outputs": [],
   "source": []
  }
 ],
 "metadata": {
  "kernelspec": {
   "display_name": "dev",
   "language": "python",
   "name": "dev"
  },
  "language_info": {
   "codemirror_mode": {
    "name": "ipython",
    "version": 3
   },
   "file_extension": ".py",
   "mimetype": "text/x-python",
   "name": "python",
   "nbconvert_exporter": "python",
   "pygments_lexer": "ipython3",
   "version": "3.9.4"
  }
 },
 "nbformat": 4,
 "nbformat_minor": 5
}
